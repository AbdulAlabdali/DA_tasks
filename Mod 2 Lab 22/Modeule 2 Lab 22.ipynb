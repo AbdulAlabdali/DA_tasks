{
 "cells": [
  {
   "cell_type": "code",
   "execution_count": 1,
   "id": "193f2d7a",
   "metadata": {},
   "outputs": [
    {
     "name": "stdout",
     "output_type": "stream",
     "text": [
      "Requirement already satisfied: yfinance in ./opt/anaconda3/lib/python3.9/site-packages (0.1.74)\n",
      "Requirement already satisfied: pandas>=0.24.0 in ./opt/anaconda3/lib/python3.9/site-packages (from yfinance) (1.4.3)\n",
      "Requirement already satisfied: requests>=2.26 in ./opt/anaconda3/lib/python3.9/site-packages (from yfinance) (2.28.1)\n",
      "Requirement already satisfied: multitasking>=0.0.7 in ./opt/anaconda3/lib/python3.9/site-packages (from yfinance) (0.0.11)\n",
      "Requirement already satisfied: numpy>=1.15 in ./opt/anaconda3/lib/python3.9/site-packages (from yfinance) (1.21.5)\n",
      "Requirement already satisfied: lxml>=4.5.1 in ./opt/anaconda3/lib/python3.9/site-packages (from yfinance) (4.9.1)\n",
      "Requirement already satisfied: python-dateutil>=2.8.1 in ./opt/anaconda3/lib/python3.9/site-packages (from pandas>=0.24.0->yfinance) (2.8.2)\n",
      "Requirement already satisfied: pytz>=2020.1 in ./opt/anaconda3/lib/python3.9/site-packages (from pandas>=0.24.0->yfinance) (2022.1)\n",
      "Requirement already satisfied: urllib3<1.27,>=1.21.1 in ./opt/anaconda3/lib/python3.9/site-packages (from requests>=2.26->yfinance) (1.26.11)\n",
      "Requirement already satisfied: idna<4,>=2.5 in ./opt/anaconda3/lib/python3.9/site-packages (from requests>=2.26->yfinance) (3.3)\n",
      "Requirement already satisfied: charset-normalizer<3,>=2 in ./opt/anaconda3/lib/python3.9/site-packages (from requests>=2.26->yfinance) (2.0.4)\n",
      "Requirement already satisfied: certifi>=2017.4.17 in ./opt/anaconda3/lib/python3.9/site-packages (from requests>=2.26->yfinance) (2022.6.15)\n",
      "Requirement already satisfied: six>=1.5 in ./opt/anaconda3/lib/python3.9/site-packages (from python-dateutil>=2.8.1->pandas>=0.24.0->yfinance) (1.16.0)\n",
      "Note: you may need to restart the kernel to use updated packages.\n"
     ]
    }
   ],
   "source": [
    "pip install yfinance"
   ]
  },
  {
   "cell_type": "code",
   "execution_count": 2,
   "id": "46a2f795",
   "metadata": {},
   "outputs": [
    {
     "name": "stdout",
     "output_type": "stream",
     "text": [
      "Requirement already satisfied: plotly in ./opt/anaconda3/lib/python3.9/site-packages (5.9.0)\r\n",
      "Requirement already satisfied: tenacity>=6.2.0 in ./opt/anaconda3/lib/python3.9/site-packages (from plotly) (8.0.1)\r\n"
     ]
    }
   ],
   "source": [
    "! pip install plotly"
   ]
  },
  {
   "cell_type": "code",
   "execution_count": 3,
   "id": "269bf7d8",
   "metadata": {},
   "outputs": [],
   "source": [
    "import yfinance as yf\n",
    "import pandas as pd\n",
    "import seaborn as sns\n",
    "import matplotlib.pyplot as plt \n",
    "from statsmodels.tsa.stattools import adfuller\n",
    "import plotly.graph_objs as go"
   ]
  },
  {
   "cell_type": "code",
   "execution_count": 9,
   "id": "f8a7c237",
   "metadata": {},
   "outputs": [
    {
     "name": "stdout",
     "output_type": "stream",
     "text": [
      "[*********************100%***********************]  1 of 1 completed\n"
     ]
    }
   ],
   "source": [
    "data = yf.download(tickers='BTC-USD')[['Close']]"
   ]
  },
  {
   "cell_type": "code",
   "execution_count": 10,
   "id": "d5c4931c",
   "metadata": {},
   "outputs": [
    {
     "data": {
      "text/html": [
       "<div>\n",
       "<style scoped>\n",
       "    .dataframe tbody tr th:only-of-type {\n",
       "        vertical-align: middle;\n",
       "    }\n",
       "\n",
       "    .dataframe tbody tr th {\n",
       "        vertical-align: top;\n",
       "    }\n",
       "\n",
       "    .dataframe thead th {\n",
       "        text-align: right;\n",
       "    }\n",
       "</style>\n",
       "<table border=\"1\" class=\"dataframe\">\n",
       "  <thead>\n",
       "    <tr style=\"text-align: right;\">\n",
       "      <th></th>\n",
       "      <th>Close</th>\n",
       "    </tr>\n",
       "    <tr>\n",
       "      <th>Date</th>\n",
       "      <th></th>\n",
       "    </tr>\n",
       "  </thead>\n",
       "  <tbody>\n",
       "    <tr>\n",
       "      <th>2014-09-17</th>\n",
       "      <td>457.334015</td>\n",
       "    </tr>\n",
       "    <tr>\n",
       "      <th>2014-09-18</th>\n",
       "      <td>424.440002</td>\n",
       "    </tr>\n",
       "    <tr>\n",
       "      <th>2014-09-19</th>\n",
       "      <td>394.795990</td>\n",
       "    </tr>\n",
       "    <tr>\n",
       "      <th>2014-09-20</th>\n",
       "      <td>408.903992</td>\n",
       "    </tr>\n",
       "    <tr>\n",
       "      <th>2014-09-21</th>\n",
       "      <td>398.821014</td>\n",
       "    </tr>\n",
       "  </tbody>\n",
       "</table>\n",
       "</div>"
      ],
      "text/plain": [
       "                 Close\n",
       "Date                  \n",
       "2014-09-17  457.334015\n",
       "2014-09-18  424.440002\n",
       "2014-09-19  394.795990\n",
       "2014-09-20  408.903992\n",
       "2014-09-21  398.821014"
      ]
     },
     "execution_count": 10,
     "metadata": {},
     "output_type": "execute_result"
    }
   ],
   "source": [
    "data.head()"
   ]
  },
  {
   "cell_type": "code",
   "execution_count": 11,
   "id": "be052c3f",
   "metadata": {},
   "outputs": [
    {
     "data": {
      "text/html": [
       "<div>\n",
       "<style scoped>\n",
       "    .dataframe tbody tr th:only-of-type {\n",
       "        vertical-align: middle;\n",
       "    }\n",
       "\n",
       "    .dataframe tbody tr th {\n",
       "        vertical-align: top;\n",
       "    }\n",
       "\n",
       "    .dataframe thead th {\n",
       "        text-align: right;\n",
       "    }\n",
       "</style>\n",
       "<table border=\"1\" class=\"dataframe\">\n",
       "  <thead>\n",
       "    <tr style=\"text-align: right;\">\n",
       "      <th></th>\n",
       "      <th>Close</th>\n",
       "    </tr>\n",
       "    <tr>\n",
       "      <th>Date</th>\n",
       "      <th></th>\n",
       "    </tr>\n",
       "  </thead>\n",
       "  <tbody>\n",
       "    <tr>\n",
       "      <th>2014-09-17</th>\n",
       "      <td>457.33</td>\n",
       "    </tr>\n",
       "    <tr>\n",
       "      <th>2014-09-18</th>\n",
       "      <td>424.44</td>\n",
       "    </tr>\n",
       "    <tr>\n",
       "      <th>2014-09-19</th>\n",
       "      <td>394.80</td>\n",
       "    </tr>\n",
       "    <tr>\n",
       "      <th>2014-09-20</th>\n",
       "      <td>408.90</td>\n",
       "    </tr>\n",
       "    <tr>\n",
       "      <th>2014-09-21</th>\n",
       "      <td>398.82</td>\n",
       "    </tr>\n",
       "  </tbody>\n",
       "</table>\n",
       "</div>"
      ],
      "text/plain": [
       "             Close\n",
       "Date              \n",
       "2014-09-17  457.33\n",
       "2014-09-18  424.44\n",
       "2014-09-19  394.80\n",
       "2014-09-20  408.90\n",
       "2014-09-21  398.82"
      ]
     },
     "execution_count": 11,
     "metadata": {},
     "output_type": "execute_result"
    }
   ],
   "source": [
    "data.index = pd.to_datetime(data.index)\n",
    "data.head().round(2)"
   ]
  },
  {
   "cell_type": "code",
   "execution_count": 12,
   "id": "e5946aec",
   "metadata": {},
   "outputs": [
    {
     "data": {
      "text/plain": [
       "(2934, 1)"
      ]
     },
     "execution_count": 12,
     "metadata": {},
     "output_type": "execute_result"
    }
   ],
   "source": [
    "data.shape"
   ]
  },
  {
   "cell_type": "code",
   "execution_count": 13,
   "id": "645b59b8",
   "metadata": {},
   "outputs": [
    {
     "name": "stderr",
     "output_type": "stream",
     "text": [
      "/Users/abdulrahmanalabdali/opt/anaconda3/lib/python3.9/site-packages/seaborn/_decorators.py:36: FutureWarning: Pass the following variables as keyword args: x, y. From version 0.12, the only valid positional argument will be `data`, and passing other arguments without an explicit keyword will result in an error or misinterpretation.\n",
      "  warnings.warn(\n"
     ]
    },
    {
     "data": {
      "text/plain": [
       "Text(0.5, 1.0, 'Bitcoin price')"
      ]
     },
     "execution_count": 13,
     "metadata": {},
     "output_type": "execute_result"
    },
    {
     "data": {
      "image/png": "[encoded data removed]",
      "text/plain": [
       "<Figure size 432x288 with 1 Axes>"
      ]
     },
     "metadata": {
      "needs_background": "light"
     },
     "output_type": "display_data"
    }
   ],
   "source": [
    "sns.lineplot(data.index, data.Close)\n",
    "plt.title('Bitcoin price')"
   ]
  },
  {
   "cell_type": "code",
   "execution_count": 14,
   "id": "f89b6a55",
   "metadata": {},
   "outputs": [
    {
     "name": "stdout",
     "output_type": "stream",
     "text": [
      "ADF Test Statistic: -1.67\n",
      "5% Critical Value: -2.86\n",
      "p-value: 0.45\n"
     ]
    }
   ],
   "source": [
    "from statsmodels.tsa.stattools import adfuller\n",
    "\n",
    "result = adfuller(data.Close)\n",
    "print('ADF Test Statistic: %.2f' % result[0])\n",
    "print('5%% Critical Value: %.2f' % result[4]['5%'])\n",
    "print('p-value: %.2f' % result[1])"
   ]
  },
  {
   "cell_type": "code",
   "execution_count": 15,
   "id": "8b73eab3",
   "metadata": {},
   "outputs": [
    {
     "name": "stdout",
     "output_type": "stream",
     "text": [
      "(5.905019588567568, 0.01, 31, {'10%': 0.347, '5%': 0.463, '2.5%': 0.574, '1%': 0.739})\n",
      "KPSS Test Statistic: 5.91\n",
      "5% Critical Value: 0.46\n",
      "p-value: 0.01\n"
     ]
    },
    {
     "name": "stderr",
     "output_type": "stream",
     "text": [
      "/Users/abdulrahmanalabdali/opt/anaconda3/lib/python3.9/site-packages/statsmodels/tsa/stattools.py:2018: InterpolationWarning: The test statistic is outside of the range of p-values available in the\n",
      "look-up table. The actual p-value is smaller than the p-value returned.\n",
      "\n",
      "  warnings.warn(\n"
     ]
    }
   ],
   "source": [
    "from statsmodels.tsa.stattools import kpss\n",
    "\n",
    "result = kpss(data.Close)\n",
    "print(result)\n",
    "print('KPSS Test Statistic: %.2f' % result[0])\n",
    "print('5%% Critical Value: %.2f' % result[3]['5%'])\n",
    "print('p-value: %.2f' % result[1])"
   ]
  },
  {
   "cell_type": "code",
   "execution_count": 16,
   "id": "c3ffede4",
   "metadata": {},
   "outputs": [
    {
     "data": {
      "image/png": "[encoded data removed]",
      "text/plain": [
       "<Figure size 432x288 with 1 Axes>"
      ]
     },
     "metadata": {
      "needs_background": "light"
     },
     "output_type": "display_data"
    }
   ],
   "source": [
    "from statsmodels.graphics.tsaplots import plot_acf , plot_pacf\n",
    "plot_acf(data.Close)\n",
    "plt.show()"
   ]
  },
  {
   "cell_type": "code",
   "execution_count": 17,
   "id": "7bb0cdb5",
   "metadata": {},
   "outputs": [
    {
     "name": "stderr",
     "output_type": "stream",
     "text": [
      "/Users/abdulrahmanalabdali/opt/anaconda3/lib/python3.9/site-packages/statsmodels/graphics/tsaplots.py:348: FutureWarning: The default method 'yw' can produce PACF values outside of the [-1,1] interval. After 0.13, the default will change tounadjusted Yule-Walker ('ywm'). You can use this method now by setting method='ywm'.\n",
      "  warnings.warn(\n"
     ]
    },
    {
     "data": {
      "image/png": "[encoded data removed]",
      "text/plain": [
       "<Figure size 432x288 with 1 Axes>"
      ]
     },
     "metadata": {
      "needs_background": "light"
     },
     "output_type": "display_data"
    }
   ],
   "source": [
    "plot_pacf(data.Close)\n",
    "plt.show()"
   ]
  },
  {
   "cell_type": "code",
   "execution_count": 18,
   "id": "d5af6894",
   "metadata": {},
   "outputs": [
    {
     "name": "stderr",
     "output_type": "stream",
     "text": [
      "/var/folders/_3/p7g0czqs2mn2vrf8z2svm6ph0000gn/T/ipykernel_4237/1269765865.py:2: SettingWithCopyWarning: \n",
      "A value is trying to be set on a copy of a slice from a DataFrame.\n",
      "Try using .loc[row_indexer,col_indexer] = value instead\n",
      "\n",
      "See the caveats in the documentation: https://pandas.pydata.org/pandas-docs/stable/user_guide/indexing.html#returning-a-view-versus-a-copy\n",
      "  data['differ'] = data['Close'].diff()\n"
     ]
    }
   ],
   "source": [
    "#First, use differnce method\n",
    "data['differ'] = data['Close'].diff()"
   ]
  },
  {
   "cell_type": "code",
   "execution_count": 19,
   "id": "5492ec87",
   "metadata": {},
   "outputs": [
    {
     "data": {
      "text/html": [
       "<div>\n",
       "<style scoped>\n",
       "    .dataframe tbody tr th:only-of-type {\n",
       "        vertical-align: middle;\n",
       "    }\n",
       "\n",
       "    .dataframe tbody tr th {\n",
       "        vertical-align: top;\n",
       "    }\n",
       "\n",
       "    .dataframe thead th {\n",
       "        text-align: right;\n",
       "    }\n",
       "</style>\n",
       "<table border=\"1\" class=\"dataframe\">\n",
       "  <thead>\n",
       "    <tr style=\"text-align: right;\">\n",
       "      <th></th>\n",
       "      <th>Close</th>\n",
       "      <th>differ</th>\n",
       "    </tr>\n",
       "    <tr>\n",
       "      <th>Date</th>\n",
       "      <th></th>\n",
       "      <th></th>\n",
       "    </tr>\n",
       "  </thead>\n",
       "  <tbody>\n",
       "    <tr>\n",
       "      <th>2014-09-17</th>\n",
       "      <td>457.334015</td>\n",
       "      <td>NaN</td>\n",
       "    </tr>\n",
       "    <tr>\n",
       "      <th>2014-09-18</th>\n",
       "      <td>424.440002</td>\n",
       "      <td>-32.894012</td>\n",
       "    </tr>\n",
       "    <tr>\n",
       "      <th>2014-09-19</th>\n",
       "      <td>394.795990</td>\n",
       "      <td>-29.644012</td>\n",
       "    </tr>\n",
       "    <tr>\n",
       "      <th>2014-09-20</th>\n",
       "      <td>408.903992</td>\n",
       "      <td>14.108002</td>\n",
       "    </tr>\n",
       "    <tr>\n",
       "      <th>2014-09-21</th>\n",
       "      <td>398.821014</td>\n",
       "      <td>-10.082977</td>\n",
       "    </tr>\n",
       "  </tbody>\n",
       "</table>\n",
       "</div>"
      ],
      "text/plain": [
       "                 Close     differ\n",
       "Date                             \n",
       "2014-09-17  457.334015        NaN\n",
       "2014-09-18  424.440002 -32.894012\n",
       "2014-09-19  394.795990 -29.644012\n",
       "2014-09-20  408.903992  14.108002\n",
       "2014-09-21  398.821014 -10.082977"
      ]
     },
     "execution_count": 19,
     "metadata": {},
     "output_type": "execute_result"
    }
   ],
   "source": [
    "data.head()"
   ]
  },
  {
   "cell_type": "code",
   "execution_count": 20,
   "id": "798d371c",
   "metadata": {},
   "outputs": [
    {
     "name": "stderr",
     "output_type": "stream",
     "text": [
      "/Users/abdulrahmanalabdali/opt/anaconda3/lib/python3.9/site-packages/seaborn/_decorators.py:36: FutureWarning: Pass the following variables as keyword args: x, y. From version 0.12, the only valid positional argument will be `data`, and passing other arguments without an explicit keyword will result in an error or misinterpretation.\n",
      "  warnings.warn(\n"
     ]
    },
    {
     "data": {
      "text/plain": [
       "Text(0.5, 1.0, 'Bitcoin price')"
      ]
     },
     "execution_count": 20,
     "metadata": {},
     "output_type": "execute_result"
    },
    {
     "data": {
      "image/png": "[encoded data removed]",
      "text/plain": [
       "<Figure size 432x288 with 1 Axes>"
      ]
     },
     "metadata": {
      "needs_background": "light"
     },
     "output_type": "display_data"
    }
   ],
   "source": [
    "sns.lineplot(data.index, data.differ)\n",
    "plt.title('Bitcoin price')"
   ]
  },
  {
   "cell_type": "code",
   "execution_count": 21,
   "id": "c87e7d49",
   "metadata": {},
   "outputs": [
    {
     "name": "stdout",
     "output_type": "stream",
     "text": [
      "ADF Test Statistic: -9.00\n",
      "5% Critical Value: -2.86\n",
      "p-value: 0.00\n"
     ]
    }
   ],
   "source": [
    "result = adfuller(data.differ.dropna())\n",
    "print('ADF Test Statistic: %.2f' % result[0])\n",
    "print('5%% Critical Value: %.2f' % result[4]['5%'])\n",
    "print('p-value: %.2f' % result[1])"
   ]
  },
  {
   "cell_type": "code",
   "execution_count": 25,
   "id": "23fa68e7",
   "metadata": {},
   "outputs": [
    {
     "name": "stderr",
     "output_type": "stream",
     "text": [
      "/Users/abdulrahmanalabdali/opt/anaconda3/lib/python3.9/site-packages/statsmodels/tsa/base/tsa_model.py:471: ValueWarning: No frequency information was provided, so inferred frequency D will be used.\n",
      "  self._init_dates(dates, freq)\n",
      "/Users/abdulrahmanalabdali/opt/anaconda3/lib/python3.9/site-packages/statsmodels/tsa/base/tsa_model.py:471: ValueWarning: No frequency information was provided, so inferred frequency D will be used.\n",
      "  self._init_dates(dates, freq)\n",
      "/Users/abdulrahmanalabdali/opt/anaconda3/lib/python3.9/site-packages/statsmodels/tsa/base/tsa_model.py:471: ValueWarning: No frequency information was provided, so inferred frequency D will be used.\n",
      "  self._init_dates(dates, freq)\n"
     ]
    },
    {
     "data": {
      "text/html": [
       "<table class=\"simpletable\">\n",
       "<caption>SARIMAX Results</caption>\n",
       "<tr>\n",
       "  <th>Dep. Variable:</th>        <td>differ</td>      <th>  No. Observations:  </th>    <td>2933</td>   \n",
       "</tr>\n",
       "<tr>\n",
       "  <th>Model:</th>            <td>ARIMA(1, 0, 0)</td>  <th>  Log Likelihood     </th> <td>-23776.934</td>\n",
       "</tr>\n",
       "<tr>\n",
       "  <th>Date:</th>            <td>Wed, 28 Sep 2022</td> <th>  AIC                </th>  <td>47559.867</td>\n",
       "</tr>\n",
       "<tr>\n",
       "  <th>Time:</th>                <td>15:58:28</td>     <th>  BIC                </th>  <td>47577.819</td>\n",
       "</tr>\n",
       "<tr>\n",
       "  <th>Sample:</th>             <td>09-18-2014</td>    <th>  HQIC               </th>  <td>47566.332</td>\n",
       "</tr>\n",
       "<tr>\n",
       "  <th></th>                   <td>- 09-28-2022</td>   <th>                     </th>      <td> </td>    \n",
       "</tr>\n",
       "<tr>\n",
       "  <th>Covariance Type:</th>        <td>opg</td>       <th>                     </th>      <td> </td>    \n",
       "</tr>\n",
       "</table>\n",
       "<table class=\"simpletable\">\n",
       "<tr>\n",
       "     <td></td>       <th>coef</th>     <th>std err</th>      <th>z</th>      <th>P>|z|</th>  <th>[0.025</th>    <th>0.975]</th>  \n",
       "</tr>\n",
       "<tr>\n",
       "  <th>const</th>  <td>    6.3436</td> <td>   14.575</td> <td>    0.435</td> <td> 0.663</td> <td>  -22.224</td> <td>   34.911</td>\n",
       "</tr>\n",
       "<tr>\n",
       "  <th>ar.L1</th>  <td>   -0.0265</td> <td>    0.010</td> <td>   -2.732</td> <td> 0.006</td> <td>   -0.046</td> <td>   -0.007</td>\n",
       "</tr>\n",
       "<tr>\n",
       "  <th>sigma2</th> <td> 6.443e+05</td> <td> 5503.388</td> <td>  117.065</td> <td> 0.000</td> <td> 6.33e+05</td> <td> 6.55e+05</td>\n",
       "</tr>\n",
       "</table>\n",
       "<table class=\"simpletable\">\n",
       "<tr>\n",
       "  <th>Ljung-Box (L1) (Q):</th>      <td>0.00</td>   <th>  Jarque-Bera (JB):  </th> <td>34403.77</td>\n",
       "</tr>\n",
       "<tr>\n",
       "  <th>Prob(Q):</th>                 <td>0.99</td>   <th>  Prob(JB):          </th>   <td>0.00</td>  \n",
       "</tr>\n",
       "<tr>\n",
       "  <th>Heteroskedasticity (H):</th> <td>3805.73</td> <th>  Skew:              </th>   <td>-0.24</td> \n",
       "</tr>\n",
       "<tr>\n",
       "  <th>Prob(H) (two-sided):</th>     <td>0.00</td>   <th>  Kurtosis:          </th>   <td>19.77</td> \n",
       "</tr>\n",
       "</table><br/><br/>Warnings:<br/>[1] Covariance matrix calculated using the outer product of gradients (complex-step)."
      ],
      "text/plain": [
       "<class 'statsmodels.iolib.summary.Summary'>\n",
       "\"\"\"\n",
       "                               SARIMAX Results                                \n",
       "==============================================================================\n",
       "Dep. Variable:                 differ   No. Observations:                 2933\n",
       "Model:                 ARIMA(1, 0, 0)   Log Likelihood              -23776.934\n",
       "Date:                Wed, 28 Sep 2022   AIC                          47559.867\n",
       "Time:                        15:58:28   BIC                          47577.819\n",
       "Sample:                    09-18-2014   HQIC                         47566.332\n",
       "                         - 09-28-2022                                         \n",
       "Covariance Type:                  opg                                         \n",
       "==============================================================================\n",
       "                 coef    std err          z      P>|z|      [0.025      0.975]\n",
       "------------------------------------------------------------------------------\n",
       "const          6.3436     14.575      0.435      0.663     -22.224      34.911\n",
       "ar.L1         -0.0265      0.010     -2.732      0.006      -0.046      -0.007\n",
       "sigma2      6.443e+05   5503.388    117.065      0.000    6.33e+05    6.55e+05\n",
       "===================================================================================\n",
       "Ljung-Box (L1) (Q):                   0.00   Jarque-Bera (JB):             34403.77\n",
       "Prob(Q):                              0.99   Prob(JB):                         0.00\n",
       "Heteroskedasticity (H):            3805.73   Skew:                            -0.24\n",
       "Prob(H) (two-sided):                  0.00   Kurtosis:                        19.77\n",
       "===================================================================================\n",
       "\n",
       "Warnings:\n",
       "[1] Covariance matrix calculated using the outer product of gradients (complex-step).\n",
       "\"\"\""
      ]
     },
     "execution_count": 25,
     "metadata": {},
     "output_type": "execute_result"
    }
   ],
   "source": [
    "#By looking at the partial autocorrelation, the model will be first order\n",
    "import statsmodels.api as sm\n",
    "model_AR1 = sm.tsa.arima.ARIMA(data.differ.dropna(), order=(1,0,0))\n",
    "result_AR1 = model_AR1.fit()\n",
    "result_AR1.summary()"
   ]
  },
  {
   "cell_type": "code",
   "execution_count": 26,
   "id": "44e7d252",
   "metadata": {},
   "outputs": [
    {
     "name": "stderr",
     "output_type": "stream",
     "text": [
      "/Users/abdulrahmanalabdali/opt/anaconda3/lib/python3.9/site-packages/statsmodels/tsa/base/tsa_model.py:471: ValueWarning: No frequency information was provided, so inferred frequency D will be used.\n",
      "  self._init_dates(dates, freq)\n",
      "/Users/abdulrahmanalabdali/opt/anaconda3/lib/python3.9/site-packages/statsmodels/tsa/base/tsa_model.py:471: ValueWarning: No frequency information was provided, so inferred frequency D will be used.\n",
      "  self._init_dates(dates, freq)\n",
      "/Users/abdulrahmanalabdali/opt/anaconda3/lib/python3.9/site-packages/statsmodels/tsa/base/tsa_model.py:471: ValueWarning: No frequency information was provided, so inferred frequency D will be used.\n",
      "  self._init_dates(dates, freq)\n"
     ]
    },
    {
     "data": {
      "text/html": [
       "<table class=\"simpletable\">\n",
       "<caption>SARIMAX Results</caption>\n",
       "<tr>\n",
       "  <th>Dep. Variable:</th>        <td>differ</td>      <th>  No. Observations:  </th>    <td>2933</td>   \n",
       "</tr>\n",
       "<tr>\n",
       "  <th>Model:</th>            <td>ARIMA(10, 0, 0)</td> <th>  Log Likelihood     </th> <td>-23755.874</td>\n",
       "</tr>\n",
       "<tr>\n",
       "  <th>Date:</th>            <td>Wed, 28 Sep 2022</td> <th>  AIC                </th>  <td>47535.748</td>\n",
       "</tr>\n",
       "<tr>\n",
       "  <th>Time:</th>                <td>15:59:00</td>     <th>  BIC                </th>  <td>47607.553</td>\n",
       "</tr>\n",
       "<tr>\n",
       "  <th>Sample:</th>             <td>09-18-2014</td>    <th>  HQIC               </th>  <td>47561.606</td>\n",
       "</tr>\n",
       "<tr>\n",
       "  <th></th>                   <td>- 09-28-2022</td>   <th>                     </th>      <td> </td>    \n",
       "</tr>\n",
       "<tr>\n",
       "  <th>Covariance Type:</th>        <td>opg</td>       <th>                     </th>      <td> </td>    \n",
       "</tr>\n",
       "</table>\n",
       "<table class=\"simpletable\">\n",
       "<tr>\n",
       "     <td></td>       <th>coef</th>     <th>std err</th>      <th>z</th>      <th>P>|z|</th>  <th>[0.025</th>    <th>0.975]</th>  \n",
       "</tr>\n",
       "<tr>\n",
       "  <th>const</th>  <td>    6.3436</td> <td>   16.790</td> <td>    0.378</td> <td> 0.706</td> <td>  -26.564</td> <td>   39.252</td>\n",
       "</tr>\n",
       "<tr>\n",
       "  <th>ar.L1</th>  <td>   -0.0283</td> <td>    0.010</td> <td>   -2.855</td> <td> 0.004</td> <td>   -0.048</td> <td>   -0.009</td>\n",
       "</tr>\n",
       "<tr>\n",
       "  <th>ar.L2</th>  <td>    0.0116</td> <td>    0.009</td> <td>    1.230</td> <td> 0.219</td> <td>   -0.007</td> <td>    0.030</td>\n",
       "</tr>\n",
       "<tr>\n",
       "  <th>ar.L3</th>  <td>    0.0208</td> <td>    0.010</td> <td>    2.047</td> <td> 0.041</td> <td>    0.001</td> <td>    0.041</td>\n",
       "</tr>\n",
       "<tr>\n",
       "  <th>ar.L4</th>  <td>    0.0330</td> <td>    0.008</td> <td>    3.883</td> <td> 0.000</td> <td>    0.016</td> <td>    0.050</td>\n",
       "</tr>\n",
       "<tr>\n",
       "  <th>ar.L5</th>  <td>    0.0138</td> <td>    0.009</td> <td>    1.543</td> <td> 0.123</td> <td>   -0.004</td> <td>    0.031</td>\n",
       "</tr>\n",
       "<tr>\n",
       "  <th>ar.L6</th>  <td>    0.0182</td> <td>    0.009</td> <td>    2.077</td> <td> 0.038</td> <td>    0.001</td> <td>    0.035</td>\n",
       "</tr>\n",
       "<tr>\n",
       "  <th>ar.L7</th>  <td>   -0.0520</td> <td>    0.008</td> <td>   -6.361</td> <td> 0.000</td> <td>   -0.068</td> <td>   -0.036</td>\n",
       "</tr>\n",
       "<tr>\n",
       "  <th>ar.L8</th>  <td>   -0.0374</td> <td>    0.008</td> <td>   -4.760</td> <td> 0.000</td> <td>   -0.053</td> <td>   -0.022</td>\n",
       "</tr>\n",
       "<tr>\n",
       "  <th>ar.L9</th>  <td>    0.0847</td> <td>    0.009</td> <td>    9.278</td> <td> 0.000</td> <td>    0.067</td> <td>    0.103</td>\n",
       "</tr>\n",
       "<tr>\n",
       "  <th>ar.L10</th> <td>    0.0331</td> <td>    0.010</td> <td>    3.457</td> <td> 0.001</td> <td>    0.014</td> <td>    0.052</td>\n",
       "</tr>\n",
       "<tr>\n",
       "  <th>sigma2</th> <td>  6.37e+05</td> <td> 5580.873</td> <td>  114.139</td> <td> 0.000</td> <td> 6.26e+05</td> <td> 6.48e+05</td>\n",
       "</tr>\n",
       "</table>\n",
       "<table class=\"simpletable\">\n",
       "<tr>\n",
       "  <th>Ljung-Box (L1) (Q):</th>      <td>0.00</td>   <th>  Jarque-Bera (JB):  </th> <td>33860.27</td>\n",
       "</tr>\n",
       "<tr>\n",
       "  <th>Prob(Q):</th>                 <td>0.98</td>   <th>  Prob(JB):          </th>   <td>0.00</td>  \n",
       "</tr>\n",
       "<tr>\n",
       "  <th>Heteroskedasticity (H):</th> <td>3789.75</td> <th>  Skew:              </th>   <td>-0.31</td> \n",
       "</tr>\n",
       "<tr>\n",
       "  <th>Prob(H) (two-sided):</th>     <td>0.00</td>   <th>  Kurtosis:          </th>   <td>19.63</td> \n",
       "</tr>\n",
       "</table><br/><br/>Warnings:<br/>[1] Covariance matrix calculated using the outer product of gradients (complex-step)."
      ],
      "text/plain": [
       "<class 'statsmodels.iolib.summary.Summary'>\n",
       "\"\"\"\n",
       "                               SARIMAX Results                                \n",
       "==============================================================================\n",
       "Dep. Variable:                 differ   No. Observations:                 2933\n",
       "Model:                ARIMA(10, 0, 0)   Log Likelihood              -23755.874\n",
       "Date:                Wed, 28 Sep 2022   AIC                          47535.748\n",
       "Time:                        15:59:00   BIC                          47607.553\n",
       "Sample:                    09-18-2014   HQIC                         47561.606\n",
       "                         - 09-28-2022                                         \n",
       "Covariance Type:                  opg                                         \n",
       "==============================================================================\n",
       "                 coef    std err          z      P>|z|      [0.025      0.975]\n",
       "------------------------------------------------------------------------------\n",
       "const          6.3436     16.790      0.378      0.706     -26.564      39.252\n",
       "ar.L1         -0.0283      0.010     -2.855      0.004      -0.048      -0.009\n",
       "ar.L2          0.0116      0.009      1.230      0.219      -0.007       0.030\n",
       "ar.L3          0.0208      0.010      2.047      0.041       0.001       0.041\n",
       "ar.L4          0.0330      0.008      3.883      0.000       0.016       0.050\n",
       "ar.L5          0.0138      0.009      1.543      0.123      -0.004       0.031\n",
       "ar.L6          0.0182      0.009      2.077      0.038       0.001       0.035\n",
       "ar.L7         -0.0520      0.008     -6.361      0.000      -0.068      -0.036\n",
       "ar.L8         -0.0374      0.008     -4.760      0.000      -0.053      -0.022\n",
       "ar.L9          0.0847      0.009      9.278      0.000       0.067       0.103\n",
       "ar.L10         0.0331      0.010      3.457      0.001       0.014       0.052\n",
       "sigma2       6.37e+05   5580.873    114.139      0.000    6.26e+05    6.48e+05\n",
       "===================================================================================\n",
       "Ljung-Box (L1) (Q):                   0.00   Jarque-Bera (JB):             33860.27\n",
       "Prob(Q):                              0.98   Prob(JB):                         0.00\n",
       "Heteroskedasticity (H):            3789.75   Skew:                            -0.31\n",
       "Prob(H) (two-sided):                  0.00   Kurtosis:                        19.63\n",
       "===================================================================================\n",
       "\n",
       "Warnings:\n",
       "[1] Covariance matrix calculated using the outer product of gradients (complex-step).\n",
       "\"\"\""
      ]
     },
     "execution_count": 26,
     "metadata": {},
     "output_type": "execute_result"
    }
   ],
   "source": [
    "model_AR2 = sm.tsa.arima.ARIMA(data.differ.dropna(), order=(10,0,0))\n",
    "result_AR2 = model_AR2.fit()\n",
    "result_AR2.summary()"
   ]
  },
  {
   "cell_type": "code",
   "execution_count": 30,
   "id": "95941259",
   "metadata": {},
   "outputs": [
    {
     "name": "stderr",
     "output_type": "stream",
     "text": [
      "/Users/abdulrahmanalabdali/opt/anaconda3/lib/python3.9/site-packages/statsmodels/tsa/base/tsa_model.py:471: ValueWarning: No frequency information was provided, so inferred frequency D will be used.\n",
      "  self._init_dates(dates, freq)\n",
      "/Users/abdulrahmanalabdali/opt/anaconda3/lib/python3.9/site-packages/statsmodels/tsa/base/tsa_model.py:471: ValueWarning: No frequency information was provided, so inferred frequency D will be used.\n",
      "  self._init_dates(dates, freq)\n",
      "/Users/abdulrahmanalabdali/opt/anaconda3/lib/python3.9/site-packages/statsmodels/tsa/base/tsa_model.py:471: ValueWarning: No frequency information was provided, so inferred frequency D will be used.\n",
      "  self._init_dates(dates, freq)\n"
     ]
    },
    {
     "data": {
      "text/html": [
       "<table class=\"simpletable\">\n",
       "<caption>SARIMAX Results</caption>\n",
       "<tr>\n",
       "  <th>Dep. Variable:</th>        <td>differ</td>      <th>  No. Observations:  </th>    <td>2933</td>   \n",
       "</tr>\n",
       "<tr>\n",
       "  <th>Model:</th>            <td>ARIMA(0, 1, 0)</td>  <th>  Log Likelihood     </th> <td>-24824.918</td>\n",
       "</tr>\n",
       "<tr>\n",
       "  <th>Date:</th>            <td>Wed, 28 Sep 2022</td> <th>  AIC                </th>  <td>49651.835</td>\n",
       "</tr>\n",
       "<tr>\n",
       "  <th>Time:</th>                <td>16:00:42</td>     <th>  BIC                </th>  <td>49657.818</td>\n",
       "</tr>\n",
       "<tr>\n",
       "  <th>Sample:</th>             <td>09-18-2014</td>    <th>  HQIC               </th>  <td>49653.990</td>\n",
       "</tr>\n",
       "<tr>\n",
       "  <th></th>                   <td>- 09-28-2022</td>   <th>                     </th>      <td> </td>    \n",
       "</tr>\n",
       "<tr>\n",
       "  <th>Covariance Type:</th>        <td>opg</td>       <th>                     </th>      <td> </td>    \n",
       "</tr>\n",
       "</table>\n",
       "<table class=\"simpletable\">\n",
       "<tr>\n",
       "     <td></td>       <th>coef</th>     <th>std err</th>      <th>z</th>      <th>P>|z|</th>  <th>[0.025</th>    <th>0.975]</th>  \n",
       "</tr>\n",
       "<tr>\n",
       "  <th>sigma2</th> <td> 1.323e+06</td> <td> 1.26e+04</td> <td>  104.769</td> <td> 0.000</td> <td>  1.3e+06</td> <td> 1.35e+06</td>\n",
       "</tr>\n",
       "</table>\n",
       "<table class=\"simpletable\">\n",
       "<tr>\n",
       "  <th>Ljung-Box (L1) (Q):</th>     <td>780.89</td>  <th>  Jarque-Bera (JB):  </th> <td>20590.09</td>\n",
       "</tr>\n",
       "<tr>\n",
       "  <th>Prob(Q):</th>                 <td>0.00</td>   <th>  Prob(JB):          </th>   <td>0.00</td>  \n",
       "</tr>\n",
       "<tr>\n",
       "  <th>Heteroskedasticity (H):</th> <td>4412.45</td> <th>  Skew:              </th>   <td>0.34</td>  \n",
       "</tr>\n",
       "<tr>\n",
       "  <th>Prob(H) (two-sided):</th>     <td>0.00</td>   <th>  Kurtosis:          </th>   <td>15.96</td> \n",
       "</tr>\n",
       "</table><br/><br/>Warnings:<br/>[1] Covariance matrix calculated using the outer product of gradients (complex-step)."
      ],
      "text/plain": [
       "<class 'statsmodels.iolib.summary.Summary'>\n",
       "\"\"\"\n",
       "                               SARIMAX Results                                \n",
       "==============================================================================\n",
       "Dep. Variable:                 differ   No. Observations:                 2933\n",
       "Model:                 ARIMA(0, 1, 0)   Log Likelihood              -24824.918\n",
       "Date:                Wed, 28 Sep 2022   AIC                          49651.835\n",
       "Time:                        16:00:42   BIC                          49657.818\n",
       "Sample:                    09-18-2014   HQIC                         49653.990\n",
       "                         - 09-28-2022                                         \n",
       "Covariance Type:                  opg                                         \n",
       "==============================================================================\n",
       "                 coef    std err          z      P>|z|      [0.025      0.975]\n",
       "------------------------------------------------------------------------------\n",
       "sigma2      1.323e+06   1.26e+04    104.769      0.000     1.3e+06    1.35e+06\n",
       "===================================================================================\n",
       "Ljung-Box (L1) (Q):                 780.89   Jarque-Bera (JB):             20590.09\n",
       "Prob(Q):                              0.00   Prob(JB):                         0.00\n",
       "Heteroskedasticity (H):            4412.45   Skew:                             0.34\n",
       "Prob(H) (two-sided):                  0.00   Kurtosis:                        15.96\n",
       "===================================================================================\n",
       "\n",
       "Warnings:\n",
       "[1] Covariance matrix calculated using the outer product of gradients (complex-step).\n",
       "\"\"\""
      ]
     },
     "execution_count": 30,
     "metadata": {},
     "output_type": "execute_result"
    }
   ],
   "source": [
    "model_MA1 = sm.tsa.arima.ARIMA(data.differ.dropna(), order=(0,1,0))\n",
    "result_MA1 = model_MA2.fit()\n",
    "result_MA1.summary()"
   ]
  },
  {
   "cell_type": "code",
   "execution_count": 31,
   "id": "9d9b4684",
   "metadata": {},
   "outputs": [
    {
     "name": "stderr",
     "output_type": "stream",
     "text": [
      "/Users/abdulrahmanalabdali/opt/anaconda3/lib/python3.9/site-packages/statsmodels/tsa/base/tsa_model.py:471: ValueWarning: No frequency information was provided, so inferred frequency D will be used.\n",
      "  self._init_dates(dates, freq)\n",
      "/Users/abdulrahmanalabdali/opt/anaconda3/lib/python3.9/site-packages/statsmodels/tsa/base/tsa_model.py:471: ValueWarning: No frequency information was provided, so inferred frequency D will be used.\n",
      "  self._init_dates(dates, freq)\n",
      "/Users/abdulrahmanalabdali/opt/anaconda3/lib/python3.9/site-packages/statsmodels/tsa/base/tsa_model.py:471: ValueWarning: No frequency information was provided, so inferred frequency D will be used.\n",
      "  self._init_dates(dates, freq)\n"
     ]
    },
    {
     "data": {
      "text/html": [
       "<table class=\"simpletable\">\n",
       "<caption>SARIMAX Results</caption>\n",
       "<tr>\n",
       "  <th>Dep. Variable:</th>        <td>differ</td>      <th>  No. Observations:  </th>    <td>2933</td>   \n",
       "</tr>\n",
       "<tr>\n",
       "  <th>Model:</th>            <td>ARIMA(0, 10, 0)</td> <th>  Log Likelihood     </th> <td>-41501.672</td>\n",
       "</tr>\n",
       "<tr>\n",
       "  <th>Date:</th>            <td>Wed, 28 Sep 2022</td> <th>  AIC                </th>  <td>83005.344</td>\n",
       "</tr>\n",
       "<tr>\n",
       "  <th>Time:</th>                <td>16:00:49</td>     <th>  BIC                </th>  <td>83011.324</td>\n",
       "</tr>\n",
       "<tr>\n",
       "  <th>Sample:</th>             <td>09-18-2014</td>    <th>  HQIC               </th>  <td>83007.498</td>\n",
       "</tr>\n",
       "<tr>\n",
       "  <th></th>                   <td>- 09-28-2022</td>   <th>                     </th>      <td> </td>    \n",
       "</tr>\n",
       "<tr>\n",
       "  <th>Covariance Type:</th>        <td>opg</td>       <th>                     </th>      <td> </td>    \n",
       "</tr>\n",
       "</table>\n",
       "<table class=\"simpletable\">\n",
       "<tr>\n",
       "     <td></td>       <th>coef</th>     <th>std err</th>      <th>z</th>      <th>P>|z|</th>  <th>[0.025</th>    <th>0.975]</th>  \n",
       "</tr>\n",
       "<tr>\n",
       "  <th>sigma2</th> <td> 1.255e+11</td> <td> 1.11e+09</td> <td>  113.262</td> <td> 0.000</td> <td> 1.23e+11</td> <td> 1.28e+11</td>\n",
       "</tr>\n",
       "</table>\n",
       "<table class=\"simpletable\">\n",
       "<tr>\n",
       "  <th>Ljung-Box (L1) (Q):</th>     <td>2434.02</td> <th>  Jarque-Bera (JB):  </th> <td>29016.84</td>\n",
       "</tr>\n",
       "<tr>\n",
       "  <th>Prob(Q):</th>                 <td>0.00</td>   <th>  Prob(JB):          </th>   <td>0.00</td>  \n",
       "</tr>\n",
       "<tr>\n",
       "  <th>Heteroskedasticity (H):</th> <td>4595.27</td> <th>  Skew:              </th>   <td>-0.00</td> \n",
       "</tr>\n",
       "<tr>\n",
       "  <th>Prob(H) (two-sided):</th>     <td>0.00</td>   <th>  Kurtosis:          </th>   <td>18.44</td> \n",
       "</tr>\n",
       "</table><br/><br/>Warnings:<br/>[1] Covariance matrix calculated using the outer product of gradients (complex-step)."
      ],
      "text/plain": [
       "<class 'statsmodels.iolib.summary.Summary'>\n",
       "\"\"\"\n",
       "                               SARIMAX Results                                \n",
       "==============================================================================\n",
       "Dep. Variable:                 differ   No. Observations:                 2933\n",
       "Model:                ARIMA(0, 10, 0)   Log Likelihood              -41501.672\n",
       "Date:                Wed, 28 Sep 2022   AIC                          83005.344\n",
       "Time:                        16:00:49   BIC                          83011.324\n",
       "Sample:                    09-18-2014   HQIC                         83007.498\n",
       "                         - 09-28-2022                                         \n",
       "Covariance Type:                  opg                                         \n",
       "==============================================================================\n",
       "                 coef    std err          z      P>|z|      [0.025      0.975]\n",
       "------------------------------------------------------------------------------\n",
       "sigma2      1.255e+11   1.11e+09    113.262      0.000    1.23e+11    1.28e+11\n",
       "===================================================================================\n",
       "Ljung-Box (L1) (Q):                2434.02   Jarque-Bera (JB):             29016.84\n",
       "Prob(Q):                              0.00   Prob(JB):                         0.00\n",
       "Heteroskedasticity (H):            4595.27   Skew:                            -0.00\n",
       "Prob(H) (two-sided):                  0.00   Kurtosis:                        18.44\n",
       "===================================================================================\n",
       "\n",
       "Warnings:\n",
       "[1] Covariance matrix calculated using the outer product of gradients (complex-step).\n",
       "\"\"\""
      ]
     },
     "execution_count": 31,
     "metadata": {},
     "output_type": "execute_result"
    }
   ],
   "source": [
    "model_MA2 = sm.tsa.arima.ARIMA(data.differ.dropna(), order=(0,10,0))\n",
    "result_MA2 = model_MA2.fit()\n",
    "result_MA2.summary()"
   ]
  },
  {
   "cell_type": "code",
   "execution_count": 32,
   "id": "1db0438a",
   "metadata": {},
   "outputs": [
    {
     "data": {
      "text/plain": [
       "2934"
      ]
     },
     "execution_count": 32,
     "metadata": {},
     "output_type": "execute_result"
    }
   ],
   "source": [
    "len(data)"
   ]
  },
  {
   "cell_type": "code",
   "execution_count": 37,
   "id": "31e77758",
   "metadata": {},
   "outputs": [],
   "source": [
    "# Step 1: Split the dataset:\n",
    "test_size = 500\n",
    "\n",
    "df_train = data['differ'][:-test_size]\n",
    "df_test = data['differ'][-test_size:]"
   ]
  },
  {
   "cell_type": "code",
   "execution_count": 38,
   "id": "b008a494",
   "metadata": {},
   "outputs": [
    {
     "name": "stdout",
     "output_type": "stream",
     "text": [
      "2434\n",
      "500\n"
     ]
    }
   ],
   "source": [
    "print(len(df_train))\n",
    "print(len(df_test))"
   ]
  },
  {
   "cell_type": "code",
   "execution_count": 39,
   "id": "1219bb6d",
   "metadata": {},
   "outputs": [
    {
     "data": {
      "text/plain": [
       "Date\n",
       "2021-05-17   -2918.546875\n",
       "2021-05-18    -628.109375\n",
       "2021-05-19   -5906.960938\n",
       "2021-05-20    3780.296875\n",
       "2021-05-21   -3478.046875\n",
       "Name: differ, dtype: float64"
      ]
     },
     "execution_count": 39,
     "metadata": {},
     "output_type": "execute_result"
    }
   ],
   "source": [
    "df_test.head()"
   ]
  },
  {
   "cell_type": "code",
   "execution_count": 41,
   "id": "f2fb5729",
   "metadata": {},
   "outputs": [
    {
     "name": "stderr",
     "output_type": "stream",
     "text": [
      "/Users/abdulrahmanalabdali/opt/anaconda3/lib/python3.9/site-packages/statsmodels/tsa/base/tsa_model.py:471: ValueWarning: No frequency information was provided, so inferred frequency D will be used.\n",
      "  self._init_dates(dates, freq)\n",
      "/Users/abdulrahmanalabdali/opt/anaconda3/lib/python3.9/site-packages/statsmodels/tsa/base/tsa_model.py:471: ValueWarning: No frequency information was provided, so inferred frequency D will be used.\n",
      "  self._init_dates(dates, freq)\n",
      "/Users/abdulrahmanalabdali/opt/anaconda3/lib/python3.9/site-packages/statsmodels/tsa/base/tsa_model.py:471: ValueWarning: No frequency information was provided, so inferred frequency D will be used.\n",
      "  self._init_dates(dates, freq)\n"
     ]
    },
    {
     "data": {
      "text/html": [
       "<table class=\"simpletable\">\n",
       "<caption>SARIMAX Results</caption>\n",
       "<tr>\n",
       "  <th>Dep. Variable:</th>        <td>differ</td>      <th>  No. Observations:  </th>    <td>2433</td>   \n",
       "</tr>\n",
       "<tr>\n",
       "  <th>Model:</th>            <td>ARIMA(1, 0, 0)</td>  <th>  Log Likelihood     </th> <td>-18940.055</td>\n",
       "</tr>\n",
       "<tr>\n",
       "  <th>Date:</th>            <td>Wed, 28 Sep 2022</td> <th>  AIC                </th>  <td>37886.110</td>\n",
       "</tr>\n",
       "<tr>\n",
       "  <th>Time:</th>                <td>16:02:59</td>     <th>  BIC                </th>  <td>37903.501</td>\n",
       "</tr>\n",
       "<tr>\n",
       "  <th>Sample:</th>             <td>09-18-2014</td>    <th>  HQIC               </th>  <td>37892.432</td>\n",
       "</tr>\n",
       "<tr>\n",
       "  <th></th>                   <td>- 05-16-2021</td>   <th>                     </th>      <td> </td>    \n",
       "</tr>\n",
       "<tr>\n",
       "  <th>Covariance Type:</th>        <td>opg</td>       <th>                     </th>      <td> </td>    \n",
       "</tr>\n",
       "</table>\n",
       "<table class=\"simpletable\">\n",
       "<tr>\n",
       "     <td></td>       <th>coef</th>     <th>std err</th>      <th>z</th>      <th>P>|z|</th>  <th>[0.025</th>    <th>0.975]</th>  \n",
       "</tr>\n",
       "<tr>\n",
       "  <th>const</th>  <td>   18.9062</td> <td>   11.667</td> <td>    1.620</td> <td> 0.105</td> <td>   -3.961</td> <td>   41.773</td>\n",
       "</tr>\n",
       "<tr>\n",
       "  <th>ar.L1</th>  <td>   -0.0275</td> <td>    0.008</td> <td>   -3.398</td> <td> 0.001</td> <td>   -0.043</td> <td>   -0.012</td>\n",
       "</tr>\n",
       "<tr>\n",
       "  <th>sigma2</th> <td> 3.383e+05</td> <td> 2063.677</td> <td>  163.954</td> <td> 0.000</td> <td> 3.34e+05</td> <td> 3.42e+05</td>\n",
       "</tr>\n",
       "</table>\n",
       "<table class=\"simpletable\">\n",
       "<tr>\n",
       "  <th>Ljung-Box (L1) (Q):</th>      <td>0.00</td>   <th>  Jarque-Bera (JB):  </th> <td>182771.57</td>\n",
       "</tr>\n",
       "<tr>\n",
       "  <th>Prob(Q):</th>                 <td>0.95</td>   <th>  Prob(JB):          </th>   <td>0.00</td>   \n",
       "</tr>\n",
       "<tr>\n",
       "  <th>Heteroskedasticity (H):</th> <td>1684.81</td> <th>  Skew:              </th>   <td>0.24</td>   \n",
       "</tr>\n",
       "<tr>\n",
       "  <th>Prob(H) (two-sided):</th>     <td>0.00</td>   <th>  Kurtosis:          </th>   <td>45.46</td>  \n",
       "</tr>\n",
       "</table><br/><br/>Warnings:<br/>[1] Covariance matrix calculated using the outer product of gradients (complex-step)."
      ],
      "text/plain": [
       "<class 'statsmodels.iolib.summary.Summary'>\n",
       "\"\"\"\n",
       "                               SARIMAX Results                                \n",
       "==============================================================================\n",
       "Dep. Variable:                 differ   No. Observations:                 2433\n",
       "Model:                 ARIMA(1, 0, 0)   Log Likelihood              -18940.055\n",
       "Date:                Wed, 28 Sep 2022   AIC                          37886.110\n",
       "Time:                        16:02:59   BIC                          37903.501\n",
       "Sample:                    09-18-2014   HQIC                         37892.432\n",
       "                         - 05-16-2021                                         \n",
       "Covariance Type:                  opg                                         \n",
       "==============================================================================\n",
       "                 coef    std err          z      P>|z|      [0.025      0.975]\n",
       "------------------------------------------------------------------------------\n",
       "const         18.9062     11.667      1.620      0.105      -3.961      41.773\n",
       "ar.L1         -0.0275      0.008     -3.398      0.001      -0.043      -0.012\n",
       "sigma2      3.383e+05   2063.677    163.954      0.000    3.34e+05    3.42e+05\n",
       "===================================================================================\n",
       "Ljung-Box (L1) (Q):                   0.00   Jarque-Bera (JB):            182771.57\n",
       "Prob(Q):                              0.95   Prob(JB):                         0.00\n",
       "Heteroskedasticity (H):            1684.81   Skew:                             0.24\n",
       "Prob(H) (two-sided):                  0.00   Kurtosis:                        45.46\n",
       "===================================================================================\n",
       "\n",
       "Warnings:\n",
       "[1] Covariance matrix calculated using the outer product of gradients (complex-step).\n",
       "\"\"\""
      ]
     },
     "execution_count": 41,
     "metadata": {},
     "output_type": "execute_result"
    }
   ],
   "source": [
    "model_AR1 = sm.tsa.arima.ARIMA(df_train.dropna(), order=(1,0,0))\n",
    "result_AR1 = model_AR1.fit()\n",
    "result_AR1.summary()"
   ]
  },
  {
   "cell_type": "code",
   "execution_count": 43,
   "id": "3745e053",
   "metadata": {},
   "outputs": [
    {
     "data": {
      "text/plain": [
       "2021-05-17    27.779194\n",
       "2021-05-18    18.662454\n",
       "2021-05-19    18.912870\n",
       "2021-05-20    18.905991\n",
       "2021-05-21    18.906180\n",
       "                ...    \n",
       "2022-09-24    18.906175\n",
       "2022-09-25    18.906175\n",
       "2022-09-26    18.906175\n",
       "2022-09-27    18.906175\n",
       "2022-09-28    18.906175\n",
       "Freq: D, Name: predicted_mean, Length: 500, dtype: float64"
      ]
     },
     "execution_count": 43,
     "metadata": {},
     "output_type": "execute_result"
    }
   ],
   "source": [
    "predict_AR_1=result_AR1.predict(df_test.index[0],df_test.index[-1])\n",
    "predict_AR_1"
   ]
  },
  {
   "cell_type": "code",
   "execution_count": 44,
   "id": "6dd886fd",
   "metadata": {},
   "outputs": [
    {
     "data": {
      "text/plain": [
       "1461.0390932106552"
      ]
     },
     "execution_count": 44,
     "metadata": {},
     "output_type": "execute_result"
    }
   ],
   "source": [
    "from statsmodels.tools.eval_measures import rmse\n",
    "RMSE_AR_1 = rmse(df_test,predict_AR_1)\n",
    "RMSE_AR_1"
   ]
  },
  {
   "cell_type": "code",
   "execution_count": 46,
   "id": "4c2a05e5",
   "metadata": {},
   "outputs": [
    {
     "name": "stderr",
     "output_type": "stream",
     "text": [
      "/Users/abdulrahmanalabdali/opt/anaconda3/lib/python3.9/site-packages/statsmodels/tsa/base/tsa_model.py:471: ValueWarning: No frequency information was provided, so inferred frequency D will be used.\n",
      "  self._init_dates(dates, freq)\n",
      "/Users/abdulrahmanalabdali/opt/anaconda3/lib/python3.9/site-packages/statsmodels/tsa/base/tsa_model.py:471: ValueWarning: No frequency information was provided, so inferred frequency D will be used.\n",
      "  self._init_dates(dates, freq)\n",
      "/Users/abdulrahmanalabdali/opt/anaconda3/lib/python3.9/site-packages/statsmodels/tsa/base/tsa_model.py:471: ValueWarning: No frequency information was provided, so inferred frequency D will be used.\n",
      "  self._init_dates(dates, freq)\n"
     ]
    },
    {
     "data": {
      "text/html": [
       "<table class=\"simpletable\">\n",
       "<caption>SARIMAX Results</caption>\n",
       "<tr>\n",
       "  <th>Dep. Variable:</th>        <td>differ</td>      <th>  No. Observations:  </th>    <td>2433</td>   \n",
       "</tr>\n",
       "<tr>\n",
       "  <th>Model:</th>            <td>ARIMA(0, 1, 0)</td>  <th>  Log Likelihood     </th> <td>-19809.443</td>\n",
       "</tr>\n",
       "<tr>\n",
       "  <th>Date:</th>            <td>Wed, 28 Sep 2022</td> <th>  AIC                </th>  <td>39620.886</td>\n",
       "</tr>\n",
       "<tr>\n",
       "  <th>Time:</th>                <td>16:04:17</td>     <th>  BIC                </th>  <td>39626.683</td>\n",
       "</tr>\n",
       "<tr>\n",
       "  <th>Sample:</th>             <td>09-18-2014</td>    <th>  HQIC               </th>  <td>39622.994</td>\n",
       "</tr>\n",
       "<tr>\n",
       "  <th></th>                   <td>- 05-16-2021</td>   <th>                     </th>      <td> </td>    \n",
       "</tr>\n",
       "<tr>\n",
       "  <th>Covariance Type:</th>        <td>opg</td>       <th>                     </th>      <td> </td>    \n",
       "</tr>\n",
       "</table>\n",
       "<table class=\"simpletable\">\n",
       "<tr>\n",
       "     <td></td>       <th>coef</th>     <th>std err</th>      <th>z</th>      <th>P>|z|</th>  <th>[0.025</th>    <th>0.975]</th>  \n",
       "</tr>\n",
       "<tr>\n",
       "  <th>sigma2</th> <td> 6.955e+05</td> <td> 4893.781</td> <td>  142.117</td> <td> 0.000</td> <td> 6.86e+05</td> <td> 7.05e+05</td>\n",
       "</tr>\n",
       "</table>\n",
       "<table class=\"simpletable\">\n",
       "<tr>\n",
       "  <th>Ljung-Box (L1) (Q):</th>     <td>700.52</td>  <th>  Jarque-Bera (JB):  </th> <td>98841.07</td>\n",
       "</tr>\n",
       "<tr>\n",
       "  <th>Prob(Q):</th>                 <td>0.00</td>   <th>  Prob(JB):          </th>   <td>0.00</td>  \n",
       "</tr>\n",
       "<tr>\n",
       "  <th>Heteroskedasticity (H):</th> <td>6106.27</td> <th>  Skew:              </th>   <td>0.78</td>  \n",
       "</tr>\n",
       "<tr>\n",
       "  <th>Prob(H) (two-sided):</th>     <td>0.00</td>   <th>  Kurtosis:          </th>   <td>34.19</td> \n",
       "</tr>\n",
       "</table><br/><br/>Warnings:<br/>[1] Covariance matrix calculated using the outer product of gradients (complex-step)."
      ],
      "text/plain": [
       "<class 'statsmodels.iolib.summary.Summary'>\n",
       "\"\"\"\n",
       "                               SARIMAX Results                                \n",
       "==============================================================================\n",
       "Dep. Variable:                 differ   No. Observations:                 2433\n",
       "Model:                 ARIMA(0, 1, 0)   Log Likelihood              -19809.443\n",
       "Date:                Wed, 28 Sep 2022   AIC                          39620.886\n",
       "Time:                        16:04:17   BIC                          39626.683\n",
       "Sample:                    09-18-2014   HQIC                         39622.994\n",
       "                         - 05-16-2021                                         \n",
       "Covariance Type:                  opg                                         \n",
       "==============================================================================\n",
       "                 coef    std err          z      P>|z|      [0.025      0.975]\n",
       "------------------------------------------------------------------------------\n",
       "sigma2      6.955e+05   4893.781    142.117      0.000    6.86e+05    7.05e+05\n",
       "===================================================================================\n",
       "Ljung-Box (L1) (Q):                 700.52   Jarque-Bera (JB):             98841.07\n",
       "Prob(Q):                              0.00   Prob(JB):                         0.00\n",
       "Heteroskedasticity (H):            6106.27   Skew:                             0.78\n",
       "Prob(H) (two-sided):                  0.00   Kurtosis:                        34.19\n",
       "===================================================================================\n",
       "\n",
       "Warnings:\n",
       "[1] Covariance matrix calculated using the outer product of gradients (complex-step).\n",
       "\"\"\""
      ]
     },
     "execution_count": 46,
     "metadata": {},
     "output_type": "execute_result"
    }
   ],
   "source": [
    "model_MA1 = sm.tsa.arima.ARIMA(df_train.dropna(), order=(0,1,0))\n",
    "result_MA1 = model_MA1.fit()\n",
    "result_MA1.summary()"
   ]
  },
  {
   "cell_type": "code",
   "execution_count": 48,
   "id": "6e73b92d",
   "metadata": {},
   "outputs": [
    {
     "data": {
      "text/plain": [
       "2021-05-17   -304.128906\n",
       "2021-05-18   -304.128906\n",
       "2021-05-19   -304.128906\n",
       "2021-05-20   -304.128906\n",
       "2021-05-21   -304.128906\n",
       "                 ...    \n",
       "2022-09-24   -304.128906\n",
       "2022-09-25   -304.128906\n",
       "2022-09-26   -304.128906\n",
       "2022-09-27   -304.128906\n",
       "2022-09-28   -304.128906\n",
       "Freq: D, Name: predicted_mean, Length: 500, dtype: float64"
      ]
     },
     "execution_count": 48,
     "metadata": {},
     "output_type": "execute_result"
    }
   ],
   "source": [
    "predict_MA_1=result_MA1.predict(df_test.index[0],df_test.index[-1])\n",
    "predict_MA_1"
   ]
  },
  {
   "cell_type": "code",
   "execution_count": 49,
   "id": "a41dc387",
   "metadata": {},
   "outputs": [
    {
     "data": {
      "text/plain": [
       "1480.2948481096737"
      ]
     },
     "execution_count": 49,
     "metadata": {},
     "output_type": "execute_result"
    }
   ],
   "source": [
    "from statsmodels.tools.eval_measures import rmse\n",
    "RMSE_MA_1 = rmse(df_test,predict_MA_1)\n",
    "RMSE_MA_1"
   ]
  },
  {
   "cell_type": "code",
   "execution_count": 50,
   "id": "434f4055",
   "metadata": {},
   "outputs": [],
   "source": [
    "from statsmodels.tools.eval_measures import aic\n",
    "import numpy as np"
   ]
  },
  {
   "cell_type": "code",
   "execution_count": 57,
   "id": "aaa908e4",
   "metadata": {},
   "outputs": [
    {
     "data": {
      "text/html": [
       "<div>\n",
       "<style scoped>\n",
       "    .dataframe tbody tr th:only-of-type {\n",
       "        vertical-align: middle;\n",
       "    }\n",
       "\n",
       "    .dataframe tbody tr th {\n",
       "        vertical-align: top;\n",
       "    }\n",
       "\n",
       "    .dataframe thead th {\n",
       "        text-align: right;\n",
       "    }\n",
       "</style>\n",
       "<table border=\"1\" class=\"dataframe\">\n",
       "  <thead>\n",
       "    <tr style=\"text-align: right;\">\n",
       "      <th></th>\n",
       "      <th>Models</th>\n",
       "      <th>RMSE</th>\n",
       "      <th>AIC</th>\n",
       "      <th>BIC</th>\n",
       "    </tr>\n",
       "  </thead>\n",
       "  <tbody>\n",
       "    <tr>\n",
       "      <th>0</th>\n",
       "      <td>AR</td>\n",
       "      <td>1461.039093</td>\n",
       "      <td>37886.110139</td>\n",
       "      <td>37903.50078</td>\n",
       "    </tr>\n",
       "    <tr>\n",
       "      <th>1</th>\n",
       "      <td>MA</td>\n",
       "      <td>1480.294848</td>\n",
       "      <td>39620.886341</td>\n",
       "      <td>39626.68281</td>\n",
       "    </tr>\n",
       "  </tbody>\n",
       "</table>\n",
       "</div>"
      ],
      "text/plain": [
       "  Models         RMSE           AIC          BIC\n",
       "0     AR  1461.039093  37886.110139  37903.50078\n",
       "1     MA  1480.294848  39620.886341  39626.68281"
      ]
     },
     "execution_count": 57,
     "metadata": {},
     "output_type": "execute_result"
    }
   ],
   "source": [
    "Models = pd.DataFrame({'Models': ['AR','MA'],'RMSE': [RMSE_AR_1, RMSE_MA_1], 'AIC': [result_AR1.aic, result_MA1.aic], 'BIC': [result_AR1.bic, result_MA1.bic]})\n",
    "Models"
   ]
  },
  {
   "cell_type": "code",
   "execution_count": 58,
   "id": "192fddf7",
   "metadata": {},
   "outputs": [
    {
     "name": "stdout",
     "output_type": "stream",
     "text": [
      "Collecting pmdarima\n",
      "  Downloading pmdarima-2.0.1-cp39-cp39-macosx_10_9_x86_64.whl (608 kB)\n",
      "\u001b[2K     \u001b[90m━━━━━━━━━━━━━━━━━━━━━━━━━━━━━━━━━━━━━\u001b[0m \u001b[32m608.2/608.2 kB\u001b[0m \u001b[31m323.0 kB/s\u001b[0m eta \u001b[36m0:00:00\u001b[0m00:01\u001b[0m00:01\u001b[0m\n",
      "\u001b[?25hRequirement already satisfied: scipy>=1.3.2 in ./opt/anaconda3/lib/python3.9/site-packages (from pmdarima) (1.7.3)\n",
      "Requirement already satisfied: statsmodels>=0.13.2 in ./opt/anaconda3/lib/python3.9/site-packages (from pmdarima) (0.13.2)\n",
      "Requirement already satisfied: scikit-learn>=0.22 in ./opt/anaconda3/lib/python3.9/site-packages (from pmdarima) (1.1.1)\n",
      "Requirement already satisfied: urllib3 in ./opt/anaconda3/lib/python3.9/site-packages (from pmdarima) (1.26.11)\n",
      "Requirement already satisfied: setuptools!=50.0.0,>=38.6.0 in ./opt/anaconda3/lib/python3.9/site-packages (from pmdarima) (61.2.0)\n",
      "Requirement already satisfied: numpy>=1.21 in ./opt/anaconda3/lib/python3.9/site-packages (from pmdarima) (1.21.5)\n",
      "Requirement already satisfied: Cython!=0.29.18,!=0.29.31,>=0.29 in ./opt/anaconda3/lib/python3.9/site-packages (from pmdarima) (0.29.30)\n",
      "Requirement already satisfied: pandas>=0.19 in ./opt/anaconda3/lib/python3.9/site-packages (from pmdarima) (1.4.3)\n",
      "Requirement already satisfied: joblib>=0.11 in ./opt/anaconda3/lib/python3.9/site-packages (from pmdarima) (1.1.0)\n",
      "Requirement already satisfied: python-dateutil>=2.8.1 in ./opt/anaconda3/lib/python3.9/site-packages (from pandas>=0.19->pmdarima) (2.8.2)\n",
      "Requirement already satisfied: pytz>=2020.1 in ./opt/anaconda3/lib/python3.9/site-packages (from pandas>=0.19->pmdarima) (2022.1)\n",
      "Requirement already satisfied: threadpoolctl>=2.0.0 in ./opt/anaconda3/lib/python3.9/site-packages (from scikit-learn>=0.22->pmdarima) (2.2.0)\n",
      "Requirement already satisfied: patsy>=0.5.2 in ./opt/anaconda3/lib/python3.9/site-packages (from statsmodels>=0.13.2->pmdarima) (0.5.2)\n",
      "Requirement already satisfied: packaging>=21.3 in ./opt/anaconda3/lib/python3.9/site-packages (from statsmodels>=0.13.2->pmdarima) (21.3)\n",
      "Requirement already satisfied: pyparsing!=3.0.5,>=2.0.2 in ./opt/anaconda3/lib/python3.9/site-packages (from packaging>=21.3->statsmodels>=0.13.2->pmdarima) (3.0.4)\n",
      "Requirement already satisfied: six in ./opt/anaconda3/lib/python3.9/site-packages (from patsy>=0.5.2->statsmodels>=0.13.2->pmdarima) (1.16.0)\n",
      "Installing collected packages: pmdarima\n",
      "Successfully installed pmdarima-2.0.1\n"
     ]
    }
   ],
   "source": [
    "!pip install pmdarima"
   ]
  },
  {
   "cell_type": "code",
   "execution_count": 59,
   "id": "444b342b",
   "metadata": {},
   "outputs": [],
   "source": [
    "import pmdarima as pm\n",
    "from pmdarima import auto_arima\n",
    "data_arima=data['differ'].dropna()"
   ]
  },
  {
   "cell_type": "code",
   "execution_count": 60,
   "id": "4cff52d9",
   "metadata": {},
   "outputs": [
    {
     "data": {
      "text/plain": [
       "0"
      ]
     },
     "execution_count": 60,
     "metadata": {},
     "output_type": "execute_result"
    }
   ],
   "source": [
    "data_arima.isnull().sum()"
   ]
  },
  {
   "cell_type": "code",
   "execution_count": 61,
   "id": "42fae9a5",
   "metadata": {},
   "outputs": [
    {
     "name": "stdout",
     "output_type": "stream",
     "text": [
      "Performing stepwise search to minimize aic\n",
      " ARIMA(0,1,0)(0,1,0)[12]             : AIC=51717.311, Time=0.22 sec\n",
      " ARIMA(1,1,0)(1,1,0)[12]             : AIC=49675.041, Time=3.39 sec\n",
      " ARIMA(0,1,1)(0,1,1)[12]             : AIC=inf, Time=5.30 sec\n"
     ]
    },
    {
     "name": "stderr",
     "output_type": "stream",
     "text": [
      "/Users/abdulrahmanalabdali/opt/anaconda3/lib/python3.9/site-packages/statsmodels/tsa/statespace/sarimax.py:1899: RuntimeWarning: invalid value encountered in reciprocal\n",
      "  return np.roots(self.polynomial_reduced_ar)**-1\n"
     ]
    },
    {
     "name": "stdout",
     "output_type": "stream",
     "text": [
      " ARIMA(1,1,0)(0,1,0)[12]             : AIC=50806.110, Time=0.72 sec\n",
      " ARIMA(1,1,0)(2,1,0)[12]             : AIC=49417.848, Time=21.68 sec\n",
      " ARIMA(1,1,0)(2,1,1)[12]             : AIC=inf, Time=29.10 sec\n",
      " ARIMA(1,1,0)(1,1,1)[12]             : AIC=inf, Time=5.26 sec\n",
      " ARIMA(0,1,0)(2,1,0)[12]             : AIC=50294.025, Time=4.47 sec\n",
      " ARIMA(2,1,0)(2,1,0)[12]             : AIC=49072.423, Time=23.06 sec\n",
      " ARIMA(2,1,0)(1,1,0)[12]             : AIC=49314.408, Time=4.37 sec\n",
      " ARIMA(2,1,0)(2,1,1)[12]             : AIC=inf, Time=35.22 sec\n",
      " ARIMA(2,1,0)(1,1,1)[12]             : AIC=inf, Time=7.69 sec\n"
     ]
    },
    {
     "name": "stderr",
     "output_type": "stream",
     "text": [
      "/Users/abdulrahmanalabdali/opt/anaconda3/lib/python3.9/site-packages/statsmodels/tsa/statespace/sarimax.py:1906: RuntimeWarning: invalid value encountered in reciprocal\n",
      "  return np.roots(self.polynomial_reduced_ma)**-1\n"
     ]
    },
    {
     "name": "stdout",
     "output_type": "stream",
     "text": [
      " ARIMA(2,1,1)(2,1,0)[12]             : AIC=inf, Time=24.62 sec\n"
     ]
    },
    {
     "name": "stderr",
     "output_type": "stream",
     "text": [
      "/Users/abdulrahmanalabdali/opt/anaconda3/lib/python3.9/site-packages/statsmodels/tsa/statespace/sarimax.py:1906: RuntimeWarning: invalid value encountered in reciprocal\n",
      "  return np.roots(self.polynomial_reduced_ma)**-1\n"
     ]
    },
    {
     "name": "stdout",
     "output_type": "stream",
     "text": [
      " ARIMA(1,1,1)(2,1,0)[12]             : AIC=inf, Time=24.44 sec\n",
      " ARIMA(2,1,0)(2,1,0)[12] intercept   : AIC=49074.423, Time=20.49 sec\n",
      "\n",
      "Best model:  ARIMA(2,1,0)(2,1,0)[12]          \n",
      "Total fit time: 210.076 seconds\n"
     ]
    }
   ],
   "source": [
    "model = auto_arima(data_arima.dropna(), start_p=0, start_q=0,\n",
    "                          max_p=2, max_q=2,m=12,start_P=0,start_Q=0, \n",
    "                          max_P = 2, max_Q = 2,\n",
    "                          seasonal=True,\n",
    "                          d=1,D=1,trace=True,\n",
    "                          error_action='ignore',   \n",
    "                          suppress_warnings=True,  \n",
    "                          stepwise=True)"
   ]
  },
  {
   "cell_type": "code",
   "execution_count": 62,
   "id": "bde81acb",
   "metadata": {},
   "outputs": [
    {
     "name": "stdout",
     "output_type": "stream",
     "text": [
      "                                     SARIMAX Results                                      \n",
      "==========================================================================================\n",
      "Dep. Variable:                                  y   No. Observations:                 2933\n",
      "Model:             SARIMAX(2, 1, 0)x(2, 1, 0, 12)   Log Likelihood              -24531.211\n",
      "Date:                            Wed, 28 Sep 2022   AIC                          49072.423\n",
      "Time:                                    16:10:29   BIC                          49102.320\n",
      "Sample:                                09-18-2014   HQIC                         49083.192\n",
      "                                     - 09-28-2022                                         \n",
      "Covariance Type:                              opg                                         \n",
      "==============================================================================\n",
      "                 coef    std err          z      P>|z|      [0.025      0.975]\n",
      "------------------------------------------------------------------------------\n",
      "ar.L1         -0.6814      0.009    -79.449      0.000      -0.698      -0.665\n",
      "ar.L2         -0.3351      0.008    -40.658      0.000      -0.351      -0.319\n",
      "ar.S.L12      -0.7326      0.008    -87.070      0.000      -0.749      -0.716\n",
      "ar.S.L24      -0.2840      0.009    -31.449      0.000      -0.302      -0.266\n",
      "sigma2       1.16e+06   1.16e+04     99.810      0.000    1.14e+06    1.18e+06\n",
      "===================================================================================\n",
      "Ljung-Box (L1) (Q):                  22.81   Jarque-Bera (JB):             17465.43\n",
      "Prob(Q):                              0.00   Prob(JB):                         0.00\n",
      "Heteroskedasticity (H):            3183.85   Skew:                             0.29\n",
      "Prob(H) (two-sided):                  0.00   Kurtosis:                        14.97\n",
      "===================================================================================\n",
      "\n",
      "Warnings:\n",
      "[1] Covariance matrix calculated using the outer product of gradients (complex-step).\n"
     ]
    }
   ],
   "source": [
    "print(model.summary())"
   ]
  },
  {
   "cell_type": "code",
   "execution_count": 63,
   "id": "0ca20bf4",
   "metadata": {},
   "outputs": [],
   "source": [
    "def model_ARMA(order_list, var):\n",
    "    \n",
    "    results = []\n",
    "    \n",
    "    for order in (order_list):\n",
    "        try: \n",
    "            model = ARMA(var, order=order).fit()\n",
    "        except:\n",
    "            continue\n",
    "            \n",
    "        aic = model.aic\n",
    "        results.append([order, model.aic, model.bic])\n",
    "        \n",
    "    result_df = pd.DataFrame(results)\n",
    "    result_df.columns = ['(p, q)', 'AIC', 'BIC']\n",
    "\n",
    "    result_df = result_df.sort_values(by='AIC', ascending=True).reset_index(drop=True)\n",
    "    \n",
    "    return result_df"
   ]
  },
  {
   "cell_type": "code",
   "execution_count": 64,
   "id": "831d3793",
   "metadata": {},
   "outputs": [],
   "source": [
    "p = range(5)\n",
    "q =range(5)\n",
    "order_list = [(x,y) for x in p for y in q]  "
   ]
  },
  {
   "cell_type": "code",
   "execution_count": 65,
   "id": "f4905113",
   "metadata": {},
   "outputs": [
    {
     "data": {
      "text/plain": [
       "25"
      ]
     },
     "execution_count": 65,
     "metadata": {},
     "output_type": "execute_result"
    }
   ],
   "source": [
    "len(order_list)"
   ]
  },
  {
   "cell_type": "code",
   "execution_count": null,
   "id": "44f791bf",
   "metadata": {},
   "outputs": [],
   "source": []
  }
 ],
 "metadata": {
  "kernelspec": {
   "display_name": "Python 3 (ipykernel)",
   "language": "python",
   "name": "python3"
  },
  "language_info": {
   "codemirror_mode": {
    "name": "ipython",
    "version": 3
   },
   "file_extension": ".py",
   "mimetype": "text/x-python",
   "name": "python",
   "nbconvert_exporter": "python",
   "pygments_lexer": "ipython3",
   "version": "3.9.12"
  }
 },
 "nbformat": 4,
 "nbformat_minor": 5
}
