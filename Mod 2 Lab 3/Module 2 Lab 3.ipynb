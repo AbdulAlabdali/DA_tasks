{
 "cells": [
  {
   "cell_type": "code",
   "execution_count": 1,
   "id": "8855c6a4",
   "metadata": {},
   "outputs": [
    {
     "data": {
      "text/plain": [
       "{'Lifetime (hours)': ['0–199',\n",
       "  '200–399',\n",
       "  '400–599',\n",
       "  '600–799',\n",
       "  '800–999',\n",
       "  '1000–1199',\n",
       "  '1200–1999'],\n",
       " 'Frequency': ['143', '97', '64', '51', '14', '14', '17']}"
      ]
     },
     "execution_count": 1,
     "metadata": {},
     "output_type": "execute_result"
    }
   ],
   "source": [
    "data={\"Lifetime (hours)\":[\"0–199\", \"200–399\", \"400–599\", \"600–799\", \"800–999\", \"1000–1199\", \"1200–1999\"],\"Frequency\": [\"143\",\"97\",\"64\",\"51\",\"14\",\"14\",\"17\"]}\n",
    "data"
   ]
  },
  {
   "cell_type": "code",
   "execution_count": null,
   "id": "e9664b99",
   "metadata": {},
   "outputs": [],
   "source": [
    "\n",
    "The time between arrival of 60 patients at an intensive care unit were recorded to the nearest hour.\n",
    "The data are shown below.\n",
    "Time (hours) 0–19 20–39 40–59 60–79 80–99 100–119 120–139 140–159 160–179\n",
    "Frequency     16    13    17    4     4      3       1      1       1\n",
    "Determine the median, mean and standard deviation for this dataset.\n",
    "\n"
   ]
  },
  {
   "cell_type": "code",
   "execution_count": 2,
   "id": "98ee5548",
   "metadata": {},
   "outputs": [],
   "source": [
    "data={\"Time (hours)\":['0-19','20-39', '40-59', '60-79' , '80-99', '100-119', '120-139', '140-159', '160-179'],  \"Frequency\": [16,13,17,4,4,3,1,1]}"
   ]
  },
  {
   "cell_type": "code",
   "execution_count": 3,
   "id": "c894da2c",
   "metadata": {},
   "outputs": [
    {
     "data": {
      "text/plain": [
       "{'Time (hours)': ['0-19',\n",
       "  '20-39',\n",
       "  '40-59',\n",
       "  '60-79',\n",
       "  '80-99',\n",
       "  '100-119',\n",
       "  '120-139',\n",
       "  '140-159',\n",
       "  '160-179'],\n",
       " 'Frequency': [16, 13, 17, 4, 4, 3, 1, 1]}"
      ]
     },
     "execution_count": 3,
     "metadata": {},
     "output_type": "execute_result"
    }
   ],
   "source": [
    "data"
   ]
  },
  {
   "cell_type": "code",
   "execution_count": null,
   "id": "f387e30a",
   "metadata": {},
   "outputs": [],
   "source": []
  }
 ],
 "metadata": {
  "kernelspec": {
   "display_name": "Python 3 (ipykernel)",
   "language": "python",
   "name": "python3"
  },
  "language_info": {
   "codemirror_mode": {
    "name": "ipython",
    "version": 3
   },
   "file_extension": ".py",
   "mimetype": "text/x-python",
   "name": "python",
   "nbconvert_exporter": "python",
   "pygments_lexer": "ipython3",
   "version": "3.9.12"
  }
 },
 "nbformat": 4,
 "nbformat_minor": 5
}
