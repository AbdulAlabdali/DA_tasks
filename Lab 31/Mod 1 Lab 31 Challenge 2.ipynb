{
 "cells": [
  {
   "cell_type": "code",
   "execution_count": 1,
   "id": "527022f6",
   "metadata": {},
   "outputs": [],
   "source": [
    "def RandomStringGenerator(l=12, a=['a','b','c','d','e','f','g','h','i','j','k','l','m','n','o','p','q','r','s','t','u','v','w','x','y','z','0','1','2','3','4','5','6','7','8','9']):\n",
    "    p = 0\n",
    "    s = ''\n",
    "    while p<l:\n",
    "        import random\n",
    "        s += random.choice(a)\n",
    "        p += 1\n",
    "    return s"
   ]
  },
  {
   "cell_type": "code",
   "execution_count": 2,
   "id": "2737a4fb",
   "metadata": {},
   "outputs": [],
   "source": [
    "def BatchStringGenerator(n, a=8, b=12):\n",
    "    r = []\n",
    "    for i in range(n):\n",
    "        c = None\n",
    "        if a < b:\n",
    "            import random\n",
    "            c = random.choice(range(a, b))\n",
    "        elif a == b:\n",
    "            c = a\n",
    "        else:\n",
    "            import sys\n",
    "            sys.exit('Incorrect min and max string lengths. Try again.')\n",
    "        r.append(RandomStringGenerator(c))\n",
    "    return r"
   ]
  },
  {
   "cell_type": "code",
   "execution_count": 3,
   "id": "a0d20a17",
   "metadata": {},
   "outputs": [
    {
     "name": "stdout",
     "output_type": "stream",
     "text": [
      "Enter minimum string length: 3\n",
      "Enter maximum string length: 8\n",
      "How many random strings to generate? 4\n",
      "['r8yj5hn', 'tcyeo', 'iya', 'vo1']\n"
     ]
    }
   ],
   "source": [
    "a = input('Enter minimum string length: ')\n",
    "b = input('Enter maximum string length: ')\n",
    "n = input('How many random strings to generate? ')\n",
    "\n",
    "print(BatchStringGenerator(int(n), int(a), int(b)))"
   ]
  },
  {
   "cell_type": "code",
   "execution_count": 4,
   "id": "f22643b3",
   "metadata": {},
   "outputs": [
    {
     "name": "stdout",
     "output_type": "stream",
     "text": [
      "['a', 'b', 'c', 'd', 'e', 'f', 'g', 'h', 'i', 'j', 'k', 'l', 'm', 'n', 'o', 'p', 'q', 'r', 's', 't', 'u', 'v', 'w', 'x', 'y', 'z', '0', '1', '2', '3', '4', '5', '6', '7', '8', '9']\n"
     ]
    },
    {
     "data": {
      "text/plain": [
       "'56kq2fdnogyp'"
      ]
     },
     "execution_count": 4,
     "metadata": {},
     "output_type": "execute_result"
    }
   ],
   "source": [
    "import random\n",
    "def random_string_generator(length=12):\n",
    "    ALPHA_NUM = [chr(item) for item in list(range(97,123)) + list(range(48,58))];\n",
    "    print (ALPHA_NUM)\n",
    "    return \"\".join(random.sample(ALPHA_NUM, length));\n",
    "random_string_generator(length=12)"
   ]
  },
  {
   "cell_type": "code",
   "execution_count": 5,
   "id": "2b5d2188",
   "metadata": {},
   "outputs": [],
   "source": [
    "import random;\n",
    "import sys;\n",
    "def batch_string_generator(n_strings, min_len=8, max_len=12):\n",
    "\n",
    "    if min_len > max_len:\n",
    "        return sys.exit('Incorrect min and max string lengths. Try again.');\n",
    "    else:\n",
    "        var_len = [min_len if min_len == max_len else random.choice(range(min_len, max_len)) for n in range(n_strings)];\n",
    "        return list(map(random_string_generator, var_len));"
   ]
  },
  {
   "cell_type": "code",
   "execution_count": 9,
   "id": "95763560",
   "metadata": {},
   "outputs": [
    {
     "name": "stdout",
     "output_type": "stream",
     "text": [
      "Enter minimum string length: 1\n",
      "Enter maximum string length: 10\n",
      "How many random strings to generate? 1\n",
      "['a', 'b', 'c', 'd', 'e', 'f', 'g', 'h', 'i', 'j', 'k', 'l', 'm', 'n', 'o', 'p', 'q', 'r', 's', 't', 'u', 'v', 'w', 'x', 'y', 'z', '0', '1', '2', '3', '4', '5', '6', '7', '8', '9']\n",
      "['524']\n"
     ]
    }
   ],
   "source": [
    "min_len = input('Enter minimum string length: ');\n",
    "max_len = input('Enter maximum string length: ');\n",
    "n_strings = input('How many random strings to generate? ');\n",
    "\n",
    "print(batch_string_generator(int(n_strings), int(min_len), int(max_len)));"
   ]
  },
  {
   "cell_type": "code",
   "execution_count": null,
   "id": "f0fb5666",
   "metadata": {},
   "outputs": [],
   "source": []
  }
 ],
 "metadata": {
  "kernelspec": {
   "display_name": "Python 3 (ipykernel)",
   "language": "python",
   "name": "python3"
  },
  "language_info": {
   "codemirror_mode": {
    "name": "ipython",
    "version": 3
   },
   "file_extension": ".py",
   "mimetype": "text/x-python",
   "name": "python",
   "nbconvert_exporter": "python",
   "pygments_lexer": "ipython3",
   "version": "3.9.12"
  }
 },
 "nbformat": 4,
 "nbformat_minor": 5
}
