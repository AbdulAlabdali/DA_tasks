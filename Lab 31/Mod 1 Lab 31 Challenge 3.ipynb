{
 "cells": [
  {
   "cell_type": "code",
   "execution_count": 2,
   "id": "d8235a01",
   "metadata": {},
   "outputs": [
    {
     "name": "stdout",
     "output_type": "stream",
     "text": [
      "What is the maximum length of the triangle side? Enter a number: 10\n",
      "The longest side possible is 5\n"
     ]
    }
   ],
   "source": [
    "def my_function(X):\n",
    "    solutions = []\n",
    "    for x in range(5, X):\n",
    "        for y in range(4, X):\n",
    "            for z in range(3, X):\n",
    "                if (x*x==y*y+z*z):\n",
    "                    solutions.append([x, y, z])\n",
    "    m = 0\n",
    "    for solution in solutions:\n",
    "        if m < max(solution):\n",
    "            m = max(solution)\n",
    "    return m\n",
    "\n",
    "X = input(\"What is the maximum length of the triangle side? Enter a number: \")\n",
    "\n",
    "print(\"The longest side possible is \" + str(my_function(int(X))))"
   ]
  },
  {
   "cell_type": "code",
   "execution_count": 3,
   "id": "f2875fd7",
   "metadata": {},
   "outputs": [],
   "source": [
    "def longest_side(max_len):\n",
    "    solutions = [[x, y, z] \n",
    "                 for x in range(5, max_len) \n",
    "                 for y in range(4, max_len) \n",
    "                 for z in range(3, max_len) \n",
    "                 if (x*x==y*y+z*z)\n",
    "                ]\n",
    "    return max([max(solution) for solution in solutions]);"
   ]
  },
  {
   "cell_type": "code",
   "execution_count": 4,
   "id": "08488037",
   "metadata": {},
   "outputs": [
    {
     "name": "stdout",
     "output_type": "stream",
     "text": [
      "What is the maximal length of the triangle side? Enter a number: 10\n",
      "The longest side possible is 5.\n"
     ]
    }
   ],
   "source": [
    "max_len = input(\"What is the maximal length of the triangle side? Enter a number: \")\n",
    "\n",
    "print(\"The longest side possible is {}.\".format(longest_side(int(max_len))));"
   ]
  },
  {
   "cell_type": "code",
   "execution_count": null,
   "id": "3777b653",
   "metadata": {},
   "outputs": [],
   "source": []
  }
 ],
 "metadata": {
  "kernelspec": {
   "display_name": "Python 3 (ipykernel)",
   "language": "python",
   "name": "python3"
  },
  "language_info": {
   "codemirror_mode": {
    "name": "ipython",
    "version": 3
   },
   "file_extension": ".py",
   "mimetype": "text/x-python",
   "name": "python",
   "nbconvert_exporter": "python",
   "pygments_lexer": "ipython3",
   "version": "3.9.12"
  }
 },
 "nbformat": 4,
 "nbformat_minor": 5
}
