{
 "cells": [
  {
   "cell_type": "markdown",
   "id": "669c3c53",
   "metadata": {},
   "source": [
    "Consider an array/list of sheep where some sheep may be missing from their place. We need a function that counts the number of sheep present in the array (true means present).\n",
    "For example,\n",
    "[true,  true,  true,  false,\n",
    "  true,  true,  true,  true ,\n",
    "  true,  false, true,  false,\n",
    "  true,  false, false, true ,\n",
    "  true,  true,  true,  true ,\n",
    "  false, false, true,  true]"
   ]
  },
  {
   "cell_type": "code",
   "execution_count": 5,
   "id": "6a62cc4d",
   "metadata": {},
   "outputs": [],
   "source": [
    "def count_sheeps(list_sheep):\n",
    "    count = 0\n",
    "    sheeps = 0\n",
    "    for i in range (len(list_sheep)):\n",
    "        if list_sheep[i] == 'true':\n",
    "            count +=1\n",
    "            sheeps +=1\n",
    "        else:\n",
    "            count +=1\n",
    "    Missing = count - sheeps\n",
    "    return {f\"{sheeps} present in array & {Missing} missing\" }"
   ]
  },
  {
   "cell_type": "markdown",
   "id": "9281c1b9",
   "metadata": {},
   "source": [
    "Take an array and remove every second element from the array. Always keep the first element and start removing with the next element.\n",
    "Example:\n",
    "\n",
    "[\"Keep\", \"Remove\", \"Keep\", \"Remove\", \"Keep\", ...] --> [\"Keep\", \"Keep\", \"Keep\", ...]\n",
    "\n",
    "None of the arrays will be empty, so you don't have to worry about that!"
   ]
  },
  {
   "cell_type": "code",
   "execution_count": 6,
   "id": "b8111012",
   "metadata": {},
   "outputs": [],
   "source": [
    "def Remove_function (array):\n",
    "    new_array = []\n",
    "    for i in range(len(array)):\n",
    "        if i%2 ==0:\n",
    "            new_array.append(array[i])\n",
    "    return ne_array"
   ]
  },
  {
   "cell_type": "markdown",
   "id": "7ca3025f",
   "metadata": {},
   "source": [
    "Convert number to reversed array of digits\n",
    "\n",
    "Given a random non-negative number, you have to return the digits of this number within an array in reverse order.\n",
    "\n",
    "Example(Input => Output):"
   ]
  },
  {
   "cell_type": "code",
   "execution_count": 7,
   "id": "9d6c9a1c",
   "metadata": {},
   "outputs": [],
   "source": [
    "def num_array (num):\n",
    "    num_str =str(num)[::-1]\n",
    "    array = []\n",
    "    for i in num_str:\n",
    "        array.append(int(i))\n",
    "    return array"
   ]
  },
  {
   "cell_type": "markdown",
   "id": "92a52add",
   "metadata": {},
   "source": [
    "Welcome. In this kata, you are asked to square every digit of a number and concatenate them.\n",
    "\n",
    "For example, if we run 9119 through the function, 811181 will come out, because 92 is 81 and 12 is 1.\n",
    "\n",
    "Note: The function accepts an integer and returns an integer"
   ]
  },
  {
   "cell_type": "code",
   "execution_count": 9,
   "id": "5bc0867d",
   "metadata": {},
   "outputs": [],
   "source": [
    "def square_dig (num):\n",
    "    num_str = str(num)\n",
    "    result = ''\n",
    "    for i in num_str:\n",
    "        digit = (int(i))**2\n",
    "        result += str(digit)\n",
    "    return int(result)"
   ]
  },
  {
   "cell_type": "markdown",
   "id": "72a58033",
   "metadata": {},
   "source": [
    "We need a method in the List Class that may count specific digits from a given list of integers. This marked digits will be given in a second list. The method .count_spec_digits()/.countSpecDigits() will accept two arguments, a list of an uncertain amount of integers integers_lists/integersLists (and of an uncertain amount of digits, too) and a second list, digits_list/digitsList that has the specific digits to count which length cannot be be longer than 10 (It's obvious, we've got ten digits). The method will output a list of tuples, each tuple having two elements, the first one will be a digit to count, and second one, its corresponding total frequency in all the integers of the first list. This list of tuples should be ordered with the same order that the digits have in digitsList\n",
    "l = List()\n",
    "\n",
    "integers_list =  [1, 1, 2 ,3 ,1 ,2 ,3 ,4]\n",
    "digits_list = [1, 3]\n",
    "l.count_spec_digits(integers_list, digits_list) == [(1, 3), (3, 2)]\n",
    "\n",
    "integers_list = [-18, -31, 81, -19, 111, -888]\n",
    "digits_list = [1, 8, 4]\n",
    "l.count_spec_digits(integers_list, digits_list) == [(1, 7), (8, 5), (4, 0)]\n",
    "\n",
    "integers_list = [-77, -65, 56, -79, 6666, 222]\n",
    "digits_list = [1, 8, 4]\n",
    "l.count_spec_digits(integers_list, digits_list) == [(1, 0), (8, 0), (4, 0)]\n"
   ]
  },
  {
   "cell_type": "code",
   "execution_count": null,
   "id": "1b3d3654",
   "metadata": {},
   "outputs": [],
   "source": []
  }
 ],
 "metadata": {
  "kernelspec": {
   "display_name": "Python 3 (ipykernel)",
   "language": "python",
   "name": "python3"
  },
  "language_info": {
   "codemirror_mode": {
    "name": "ipython",
    "version": 3
   },
   "file_extension": ".py",
   "mimetype": "text/x-python",
   "name": "python",
   "nbconvert_exporter": "python",
   "pygments_lexer": "ipython3",
   "version": "3.9.12"
  }
 },
 "nbformat": 4,
 "nbformat_minor": 5
}
