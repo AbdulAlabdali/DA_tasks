{
 "cells": [
  {
   "cell_type": "markdown",
   "metadata": {},
   "source": [
    "# Intrduction to NumPy\n",
    "\n",
    "\n",
    "#### 1. Import NumPy under the name np."
   ]
  },
  {
   "cell_type": "code",
   "execution_count": 2,
   "metadata": {},
   "outputs": [],
   "source": [
    "import numpy as np"
   ]
  },
  {
   "cell_type": "markdown",
   "metadata": {},
   "source": [
    "#### 2. Print your NumPy version."
   ]
  },
  {
   "cell_type": "code",
   "execution_count": 3,
   "metadata": {},
   "outputs": [
    {
     "name": "stdout",
     "output_type": "stream",
     "text": [
      "1.21.5\n"
     ]
    }
   ],
   "source": [
    "print(np.__version__)"
   ]
  },
  {
   "cell_type": "markdown",
   "metadata": {},
   "source": [
    "#### 3. Generate a 2x3x5 3-dimensional array with random values. Assign the array to variable *a*.\n",
    "**Challenge**: there are at least three easy ways that use numpy to generate random arrays. How many ways can you find?"
   ]
  },
  {
   "cell_type": "code",
   "execution_count": 4,
   "metadata": {},
   "outputs": [
    {
     "data": {
      "text/plain": [
       "array([[[1.90260392e-01, 9.47044759e-01, 8.77383646e-01, 6.93313893e-02,\n",
       "         9.20309163e-01],\n",
       "        [2.60617967e-01, 6.77042868e-01, 5.93834979e-01, 5.70989747e-04,\n",
       "         4.38778942e-01],\n",
       "        [8.39178721e-01, 6.93707708e-01, 9.49533539e-01, 1.42109316e-01,\n",
       "         3.72528083e-01]],\n",
       "\n",
       "       [[1.03968922e-01, 9.06957762e-01, 2.62490352e-01, 1.06905973e-03,\n",
       "         8.73968059e-01],\n",
       "        [6.81909311e-01, 2.60397545e-01, 9.84265036e-02, 5.11472813e-01,\n",
       "         8.37759516e-01],\n",
       "        [5.59610548e-01, 6.27822402e-01, 7.36398411e-01, 6.86518135e-01,\n",
       "         5.81716085e-01]]])"
      ]
     },
     "execution_count": 4,
     "metadata": {},
     "output_type": "execute_result"
    }
   ],
   "source": [
    "a=np.random.rand(2,3,5)\n",
    "a"
   ]
  },
  {
   "cell_type": "code",
   "execution_count": 5,
   "metadata": {},
   "outputs": [
    {
     "data": {
      "text/plain": [
       "array([[[81, 80, 38, 98, 39],\n",
       "        [58,  4,  1, 32, 87],\n",
       "        [77, 59, 95, 84, 74]],\n",
       "\n",
       "       [[11, 36, 68, 17,  9],\n",
       "        [ 6, 19, 16, 68, 64],\n",
       "        [81, 83, 83, 35, 97]]])"
      ]
     },
     "execution_count": 5,
     "metadata": {},
     "output_type": "execute_result"
    }
   ],
   "source": [
    "a = np.random.randint(0, 100, size=(2, 3, 5))\n",
    "a"
   ]
  },
  {
   "cell_type": "code",
   "execution_count": 6,
   "metadata": {},
   "outputs": [
    {
     "data": {
      "text/plain": [
       "array([[[0.67820476, 0.62454173, 0.59332344, 0.71480567, 0.26294794],\n",
       "        [0.472581  , 0.54967209, 0.569886  , 0.92558456, 0.94093357],\n",
       "        [0.97560896, 0.02835993, 0.40385355, 0.27931594, 0.42659607]],\n",
       "\n",
       "       [[0.70126878, 0.97350416, 0.03581946, 0.89795456, 0.19467288],\n",
       "        [0.25551716, 0.50072684, 0.26135586, 0.09893908, 0.40153815],\n",
       "        [0.40126112, 0.32224129, 0.90923795, 0.17432234, 0.15492786]]])"
      ]
     },
     "execution_count": 6,
     "metadata": {},
     "output_type": "execute_result"
    }
   ],
   "source": [
    "a = np.random.random((2,3,5))\n",
    "a"
   ]
  },
  {
   "cell_type": "code",
   "execution_count": 7,
   "metadata": {},
   "outputs": [
    {
     "name": "stdout",
     "output_type": "stream",
     "text": [
      "[[[0.67820476 0.62454173 0.59332344 0.71480567 0.26294794]\n",
      "  [0.472581   0.54967209 0.569886   0.92558456 0.94093357]\n",
      "  [0.97560896 0.02835993 0.40385355 0.27931594 0.42659607]]\n",
      "\n",
      " [[0.70126878 0.97350416 0.03581946 0.89795456 0.19467288]\n",
      "  [0.25551716 0.50072684 0.26135586 0.09893908 0.40153815]\n",
      "  [0.40126112 0.32224129 0.90923795 0.17432234 0.15492786]]]\n"
     ]
    }
   ],
   "source": [
    "print(a)\n"
   ]
  },
  {
   "cell_type": "markdown",
   "metadata": {},
   "source": [
    "#### 5. Create a 5x2x3 3-dimensional array with all values equaling 1. Assign the array to variable *b*."
   ]
  },
  {
   "cell_type": "code",
   "execution_count": 8,
   "metadata": {},
   "outputs": [
    {
     "data": {
      "text/plain": [
       "array([[[1., 1., 1.],\n",
       "        [1., 1., 1.]],\n",
       "\n",
       "       [[1., 1., 1.],\n",
       "        [1., 1., 1.]],\n",
       "\n",
       "       [[1., 1., 1.],\n",
       "        [1., 1., 1.]],\n",
       "\n",
       "       [[1., 1., 1.],\n",
       "        [1., 1., 1.]],\n",
       "\n",
       "       [[1., 1., 1.],\n",
       "        [1., 1., 1.]]])"
      ]
     },
     "execution_count": 8,
     "metadata": {},
     "output_type": "execute_result"
    }
   ],
   "source": [
    "b = np.ones((5,2,3))\n",
    "b"
   ]
  },
  {
   "cell_type": "markdown",
   "metadata": {},
   "source": [
    "#### 6. Print *b*.\n"
   ]
  },
  {
   "cell_type": "code",
   "execution_count": 9,
   "metadata": {},
   "outputs": [
    {
     "name": "stdout",
     "output_type": "stream",
     "text": [
      "[[[1. 1. 1.]\n",
      "  [1. 1. 1.]]\n",
      "\n",
      " [[1. 1. 1.]\n",
      "  [1. 1. 1.]]\n",
      "\n",
      " [[1. 1. 1.]\n",
      "  [1. 1. 1.]]\n",
      "\n",
      " [[1. 1. 1.]\n",
      "  [1. 1. 1.]]\n",
      "\n",
      " [[1. 1. 1.]\n",
      "  [1. 1. 1.]]]\n"
     ]
    }
   ],
   "source": [
    "print(b)"
   ]
  },
  {
   "cell_type": "markdown",
   "metadata": {},
   "source": [
    "#### 7. Do *a* and *b* have the same size? How do you prove that in Python code?"
   ]
  },
  {
   "cell_type": "code",
   "execution_count": 10,
   "metadata": {},
   "outputs": [
    {
     "name": "stderr",
     "output_type": "stream",
     "text": [
      "/var/folders/_3/p7g0czqs2mn2vrf8z2svm6ph0000gn/T/ipykernel_78308/3817457479.py:1: DeprecationWarning: elementwise comparison failed; this will raise an error in the future.\n",
      "  a == b\n"
     ]
    },
    {
     "data": {
      "text/plain": [
       "False"
      ]
     },
     "execution_count": 10,
     "metadata": {},
     "output_type": "execute_result"
    }
   ],
   "source": [
    "a == b\n"
   ]
  },
  {
   "cell_type": "markdown",
   "metadata": {},
   "source": [
    "#### 8. Are you able to add *a* and *b*? Why or why not?\n"
   ]
  },
  {
   "cell_type": "code",
   "execution_count": 11,
   "metadata": {},
   "outputs": [
    {
     "ename": "ValueError",
     "evalue": "operands could not be broadcast together with shapes (2,3,5) (5,2,3) ",
     "output_type": "error",
     "traceback": [
      "\u001b[0;31m---------------------------------------------------------------------------\u001b[0m",
      "\u001b[0;31mValueError\u001b[0m                                Traceback (most recent call last)",
      "Input \u001b[0;32mIn [11]\u001b[0m, in \u001b[0;36m<cell line: 1>\u001b[0;34m()\u001b[0m\n\u001b[0;32m----> 1\u001b[0m \u001b[43mnp\u001b[49m\u001b[38;5;241;43m.\u001b[39;49m\u001b[43madd\u001b[49m\u001b[43m(\u001b[49m\u001b[43ma\u001b[49m\u001b[43m,\u001b[49m\u001b[43mb\u001b[49m\u001b[43m)\u001b[49m\n",
      "\u001b[0;31mValueError\u001b[0m: operands could not be broadcast together with shapes (2,3,5) (5,2,3) "
     ]
    }
   ],
   "source": [
    "np.add(a,b)\n",
    "#no they are not the same array shape"
   ]
  },
  {
   "cell_type": "markdown",
   "metadata": {},
   "source": [
    "#### 9. Transpose *b* so that it has the same structure of *a* (i.e. become a 2x3x5 array). Assign the transposed array to variable *c*."
   ]
  },
  {
   "cell_type": "code",
   "execution_count": 12,
   "metadata": {},
   "outputs": [
    {
     "name": "stdout",
     "output_type": "stream",
     "text": [
      "[[[1. 1. 1. 1. 1.]\n",
      "  [1. 1. 1. 1. 1.]\n",
      "  [1. 1. 1. 1. 1.]]\n",
      "\n",
      " [[1. 1. 1. 1. 1.]\n",
      "  [1. 1. 1. 1. 1.]\n",
      "  [1. 1. 1. 1. 1.]]]\n"
     ]
    }
   ],
   "source": [
    "c=np.transpose(b, axes=(1,2,0)) \n",
    "print(c)"
   ]
  },
  {
   "cell_type": "markdown",
   "metadata": {},
   "source": [
    "#### 10. Try to add *a* and *c*. Now it should work. Assign the sum to variable *d*. But why does it work now?"
   ]
  },
  {
   "cell_type": "code",
   "execution_count": 13,
   "metadata": {},
   "outputs": [
    {
     "name": "stdout",
     "output_type": "stream",
     "text": [
      "[[[1.67820476 1.62454173 1.59332344 1.71480567 1.26294794]\n",
      "  [1.472581   1.54967209 1.569886   1.92558456 1.94093357]\n",
      "  [1.97560896 1.02835993 1.40385355 1.27931594 1.42659607]]\n",
      "\n",
      " [[1.70126878 1.97350416 1.03581946 1.89795456 1.19467288]\n",
      "  [1.25551716 1.50072684 1.26135586 1.09893908 1.40153815]\n",
      "  [1.40126112 1.32224129 1.90923795 1.17432234 1.15492786]]]\n"
     ]
    }
   ],
   "source": [
    "d=(np.add(a,c))\n",
    "print(d)"
   ]
  },
  {
   "cell_type": "markdown",
   "metadata": {},
   "source": [
    "#### 11. Print *a* and *d*. Notice the difference and relation of the two array in terms of the values? Explain."
   ]
  },
  {
   "cell_type": "code",
   "execution_count": 14,
   "metadata": {},
   "outputs": [
    {
     "name": "stdout",
     "output_type": "stream",
     "text": [
      "[[[0.67820476 0.62454173 0.59332344 0.71480567 0.26294794]\n",
      "  [0.472581   0.54967209 0.569886   0.92558456 0.94093357]\n",
      "  [0.97560896 0.02835993 0.40385355 0.27931594 0.42659607]]\n",
      "\n",
      " [[0.70126878 0.97350416 0.03581946 0.89795456 0.19467288]\n",
      "  [0.25551716 0.50072684 0.26135586 0.09893908 0.40153815]\n",
      "  [0.40126112 0.32224129 0.90923795 0.17432234 0.15492786]]]\n"
     ]
    },
    {
     "data": {
      "text/plain": [
       "(None,\n",
       " array([[[1.67820476, 1.62454173, 1.59332344, 1.71480567, 1.26294794],\n",
       "         [1.472581  , 1.54967209, 1.569886  , 1.92558456, 1.94093357],\n",
       "         [1.97560896, 1.02835993, 1.40385355, 1.27931594, 1.42659607]],\n",
       " \n",
       "        [[1.70126878, 1.97350416, 1.03581946, 1.89795456, 1.19467288],\n",
       "         [1.25551716, 1.50072684, 1.26135586, 1.09893908, 1.40153815],\n",
       "         [1.40126112, 1.32224129, 1.90923795, 1.17432234, 1.15492786]]]))"
      ]
     },
     "execution_count": 14,
     "metadata": {},
     "output_type": "execute_result"
    }
   ],
   "source": [
    "print(a ),(d)"
   ]
  },
  {
   "cell_type": "code",
   "execution_count": null,
   "metadata": {},
   "outputs": [],
   "source": [
    "#Both have same array shape but different elements"
   ]
  },
  {
   "cell_type": "markdown",
   "metadata": {},
   "source": [
    "#### 12. Multiply *a* and *c*. Assign the result to *e*."
   ]
  },
  {
   "cell_type": "code",
   "execution_count": 15,
   "metadata": {},
   "outputs": [
    {
     "name": "stdout",
     "output_type": "stream",
     "text": [
      "[[[0.67820476 0.62454173 0.59332344 0.71480567 0.26294794]\n",
      "  [0.472581   0.54967209 0.569886   0.92558456 0.94093357]\n",
      "  [0.97560896 0.02835993 0.40385355 0.27931594 0.42659607]]\n",
      "\n",
      " [[0.70126878 0.97350416 0.03581946 0.89795456 0.19467288]\n",
      "  [0.25551716 0.50072684 0.26135586 0.09893908 0.40153815]\n",
      "  [0.40126112 0.32224129 0.90923795 0.17432234 0.15492786]]]\n"
     ]
    }
   ],
   "source": [
    "e=print(np.multiply(a, c))"
   ]
  },
  {
   "cell_type": "markdown",
   "metadata": {},
   "source": [
    "#### 13. Does *e* equal to *a*? Why or why not?\n"
   ]
  },
  {
   "cell_type": "code",
   "execution_count": 16,
   "metadata": {},
   "outputs": [
    {
     "data": {
      "text/plain": [
       "array([[[False, False, False, False, False],\n",
       "        [False, False, False, False, False],\n",
       "        [False, False, False, False, False]],\n",
       "\n",
       "       [[False, False, False, False, False],\n",
       "        [False, False, False, False, False],\n",
       "        [False, False, False, False, False]]])"
      ]
     },
     "execution_count": 16,
     "metadata": {},
     "output_type": "execute_result"
    }
   ],
   "source": [
    "a == e"
   ]
  },
  {
   "cell_type": "markdown",
   "metadata": {},
   "source": [
    "#### 14. Identify the max, min, and mean values in *d*. Assign those values to variables *d_max*, *d_min* and *d_mean*."
   ]
  },
  {
   "cell_type": "code",
   "execution_count": 17,
   "metadata": {},
   "outputs": [
    {
     "name": "stdout",
     "output_type": "stream",
     "text": [
      "1.9756089627033222\n"
     ]
    }
   ],
   "source": [
    "d_max=(np.max(d))\n",
    "print(d_max)"
   ]
  },
  {
   "cell_type": "code",
   "execution_count": 18,
   "metadata": {},
   "outputs": [
    {
     "name": "stdout",
     "output_type": "stream",
     "text": [
      "1.0283599296723227\n"
     ]
    }
   ],
   "source": [
    "d_min=(np.min(d))\n",
    "print(d_min)"
   ]
  },
  {
   "cell_type": "code",
   "execution_count": 19,
   "metadata": {},
   "outputs": [
    {
     "name": "stdout",
     "output_type": "stream",
     "text": [
      "1.4909834233917623\n"
     ]
    }
   ],
   "source": [
    "d_mean=(np.mean(d))\n",
    "print(d_mean)"
   ]
  },
  {
   "cell_type": "markdown",
   "metadata": {},
   "source": [
    "#### 15. Now we want to label the values in *d*. First create an empty array *f* with the same shape (i.e. 2x3x5) as *d* using `np.empty`.\n"
   ]
  },
  {
   "cell_type": "code",
   "execution_count": 20,
   "metadata": {},
   "outputs": [
    {
     "name": "stdout",
     "output_type": "stream",
     "text": [
      "[[[0.67820476 0.62454173 0.59332344 0.71480567 0.26294794]\n",
      "  [0.472581   0.54967209 0.569886   0.92558456 0.94093357]\n",
      "  [0.97560896 0.02835993 0.40385355 0.27931594 0.42659607]]\n",
      "\n",
      " [[0.70126878 0.97350416 0.03581946 0.89795456 0.19467288]\n",
      "  [0.25551716 0.50072684 0.26135586 0.09893908 0.40153815]\n",
      "  [0.40126112 0.32224129 0.90923795 0.17432234 0.15492786]]]\n"
     ]
    }
   ],
   "source": [
    "f=np.empty([2,3,5])\n",
    "print(f)"
   ]
  },
  {
   "cell_type": "markdown",
   "metadata": {},
   "source": [
    "#### 16. Populate the values in *f*. \n",
    "\n",
    "For each value in *d*, if it's larger than *d_min* but smaller than *d_mean*, assign 25 to the corresponding value in *f*. If a value in *d* is larger than *d_mean* but smaller than *d_max*, assign 75 to the corresponding value in *f*. If a value equals to *d_mean*, assign 50 to the corresponding value in *f*. Assign 0 to the corresponding value(s) in *f* for *d_min* in *d*. Assign 100 to the corresponding value(s) in *f* for *d_max* in *d*. In the end, f should have only the following values: 0, 25, 50, 75, and 100.\n",
    "\n",
    "**Note**: you don't have to use Numpy in this question."
   ]
  },
  {
   "cell_type": "code",
   "execution_count": 21,
   "metadata": {},
   "outputs": [
    {
     "data": {
      "text/plain": [
       "array([[[1.67820476, 1.62454173, 1.59332344, 1.71480567, 1.26294794],\n",
       "        [1.472581  , 1.54967209, 1.569886  , 1.92558456, 1.94093357],\n",
       "        [1.97560896, 1.02835993, 1.40385355, 1.27931594, 1.42659607]],\n",
       "\n",
       "       [[1.70126878, 1.97350416, 1.03581946, 1.89795456, 1.19467288],\n",
       "        [1.25551716, 1.50072684, 1.26135586, 1.09893908, 1.40153815],\n",
       "        [1.40126112, 1.32224129, 1.90923795, 1.17432234, 1.15492786]]])"
      ]
     },
     "execution_count": 21,
     "metadata": {},
     "output_type": "execute_result"
    }
   ],
   "source": [
    "f = np.array((d))\n",
    "f"
   ]
  },
  {
   "cell_type": "code",
   "execution_count": 22,
   "metadata": {},
   "outputs": [
    {
     "name": "stdout",
     "output_type": "stream",
     "text": [
      "[[[ 75.  75.  75.  75.  25.]\n",
      "  [ 25.  75.  75.  75.  75.]\n",
      "  [100.   0.  25.  25.  25.]]\n",
      "\n",
      " [[ 75.  75.  25.  75.  25.]\n",
      "  [ 25.  75.  25.  25.  25.]\n",
      "  [ 25.  25.  75.  25.  25.]]]\n"
     ]
    }
   ],
   "source": [
    "a=np.where((f>d_min)&(f<d_mean),25,f)\n",
    "b=np.where((f>d_mean)&(f<d_max),75,a)\n",
    "c=np.where((f==d_mean),50,b)\n",
    "d=np.where((f==d_min),0,c)\n",
    "e=np.where((f==d_max),100,d)\n",
    "print(e)"
   ]
  },
  {
   "cell_type": "markdown",
   "metadata": {},
   "source": [
    "#### 17. Print *d* and *f*. Do you have your expected *f*?\n",
    "For instance, if your *d* is:\n",
    "```python\n",
    "[[[1.85836099, 1.67064465, 1.62576044, 1.40243961, 1.88454931],\n",
    "[1.75354326, 1.69403643, 1.36729252, 1.61415071, 1.12104981],\n",
    "[1.72201435, 1.1862918 , 1.87078449, 1.7726778 , 1.88180042]],\n",
    "[[1.44747908, 1.31673383, 1.02000951, 1.52218947, 1.97066381],\n",
    "[1.79129243, 1.74983003, 1.96028037, 1.85166831, 1.65450881],\n",
    "[1.18068344, 1.9587381 , 1.00656599, 1.93402165, 1.73514584]]]\n",
    "```\n",
    "Your *f* should be:\n",
    "```python\n",
    "[[[ 75.,  75.,  75.,  25.,  75.],\n",
    "[ 75.,  75.,  25.,  25.,  25.],\n",
    "[ 75.,  25.,  75.,  75.,  75.]],\n",
    "[[ 25.,  25.,  25.,  25., 100.],\n",
    "[ 75.,  75.,  75.,  75.,  75.],\n",
    "[ 25.,  75.,   0.,  75.,  75.]]]\n",
    "```"
   ]
  },
  {
   "cell_type": "code",
   "execution_count": 23,
   "metadata": {},
   "outputs": [
    {
     "name": "stdout",
     "output_type": "stream",
     "text": [
      "[[[75.         75.         75.         75.         25.        ]\n",
      "  [25.         75.         75.         75.         75.        ]\n",
      "  [ 1.97560896  0.         25.         25.         25.        ]]\n",
      "\n",
      " [[75.         75.         25.         75.         25.        ]\n",
      "  [25.         75.         25.         25.         25.        ]\n",
      "  [25.         25.         75.         25.         25.        ]]]\n"
     ]
    }
   ],
   "source": [
    "print(d)"
   ]
  },
  {
   "cell_type": "code",
   "execution_count": 24,
   "metadata": {},
   "outputs": [
    {
     "name": "stdout",
     "output_type": "stream",
     "text": [
      "[[[1.67820476 1.62454173 1.59332344 1.71480567 1.26294794]\n",
      "  [1.472581   1.54967209 1.569886   1.92558456 1.94093357]\n",
      "  [1.97560896 1.02835993 1.40385355 1.27931594 1.42659607]]\n",
      "\n",
      " [[1.70126878 1.97350416 1.03581946 1.89795456 1.19467288]\n",
      "  [1.25551716 1.50072684 1.26135586 1.09893908 1.40153815]\n",
      "  [1.40126112 1.32224129 1.90923795 1.17432234 1.15492786]]]\n"
     ]
    }
   ],
   "source": [
    "print(f)"
   ]
  },
  {
   "cell_type": "markdown",
   "metadata": {},
   "source": [
    "#### 18. Bonus question: instead of using numbers (i.e. 0, 25, 50, 75, and 100), use string values  (\"A\", \"B\", \"C\", \"D\", and \"E\") to label the array elements. For the example above, the expected result is:\n",
    "\n",
    "```python\n",
    "[[[ 'D',  'D',  'D',  'B',  'D'],\n",
    "[ 'D',  'D',  'B',  'B',  'B'],\n",
    "[ 'D',  'B',  'D',  'D',  'D']],\n",
    "[[ 'B',  'B',  'B',  'B',  'E'],\n",
    "[ 'D',  'D',  'D',  'D',  'D'],\n",
    "[ 'B',  'D',   'A',  'D', 'D']]]\n",
    "```\n",
    "**Note**: you don't have to use Numpy in this question."
   ]
  },
  {
   "cell_type": "code",
   "execution_count": 25,
   "metadata": {},
   "outputs": [
    {
     "name": "stdout",
     "output_type": "stream",
     "text": [
      "[[['75.0' '75.0' '75.0' '75.0' '25.0']\n",
      "  ['25.0' '75.0' '75.0' '75.0' '75.0']\n",
      "  ['E' '0.0' '25.0' '25.0' '25.0']]\n",
      "\n",
      " [['75.0' '75.0' '25.0' '75.0' '25.0']\n",
      "  ['25.0' '75.0' '25.0' '25.0' '25.0']\n",
      "  ['25.0' '25.0' '75.0' '25.0' '25.0']]]\n"
     ]
    }
   ],
   "source": [
    "i=np.where((d>d_min)&(d<d_mean),\"A\",d)\n",
    "j=np.where((d>d_mean)&(d<d_max),\"B\",i)\n",
    "k=np.where((d==d_mean),\"C\",j)\n",
    "l=np.where((d==d_min),\"D\",k)\n",
    "m=np.where((d==d_max),\"E\",l)\n",
    "print(m)"
   ]
  },
  {
   "cell_type": "code",
   "execution_count": null,
   "metadata": {},
   "outputs": [],
   "source": []
  }
 ],
 "metadata": {
  "kernelspec": {
   "display_name": "Python 3 (ipykernel)",
   "language": "python",
   "name": "python3"
  },
  "language_info": {
   "codemirror_mode": {
    "name": "ipython",
    "version": 3
   },
   "file_extension": ".py",
   "mimetype": "text/x-python",
   "name": "python",
   "nbconvert_exporter": "python",
   "pygments_lexer": "ipython3",
   "version": "3.9.12"
  }
 },
 "nbformat": 4,
 "nbformat_minor": 2
}
